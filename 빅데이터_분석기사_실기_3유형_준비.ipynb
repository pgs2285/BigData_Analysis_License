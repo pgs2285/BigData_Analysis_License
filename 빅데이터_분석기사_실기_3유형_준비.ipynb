{
  "nbformat": 4,
  "nbformat_minor": 0,
  "metadata": {
    "colab": {
      "provenance": [],
      "authorship_tag": "ABX9TyOuX6t6/KVbwQqftIGc11V/",
      "include_colab_link": true
    },
    "kernelspec": {
      "name": "python3",
      "display_name": "Python 3"
    },
    "language_info": {
      "name": "python"
    }
  },
  "cells": [
    {
      "cell_type": "markdown",
      "metadata": {
        "id": "view-in-github",
        "colab_type": "text"
      },
      "source": [
        "<a href=\"https://colab.research.google.com/github/pgs2285/BigData_Analysis_License/blob/master/%EB%B9%85%EB%8D%B0%EC%9D%B4%ED%84%B0_%EB%B6%84%EC%84%9D%EA%B8%B0%EC%82%AC_%EC%8B%A4%EA%B8%B0_3%EC%9C%A0%ED%98%95_%EC%A4%80%EB%B9%84.ipynb\" target=\"_parent\"><img src=\"https://colab.research.google.com/assets/colab-badge.svg\" alt=\"Open In Colab\"/></a>"
      ]
    },
    {
      "cell_type": "code",
      "execution_count": null,
      "metadata": {
        "id": "O8W8up5RFr9a"
      },
      "outputs": [],
      "source": []
    },
    {
      "cell_type": "markdown",
      "source": [
        "# 빅데이터 분석기사 실기 3유형 준비\n",
        "올해부터 새로히 생긴 유형이다.  \n",
        "이론적인 내용보다는 DataManim의 사이트에서 예시 위주로 준비했다.  \n",
        "[DataManim의 사이트](https://www.datamanim.com/)\n",
        "\n",
        "## 정규성 검증\n",
        "\n",
        "### Shapiro & Wilk 검증\n",
        "shapiro 와 wilk라는 사람에 의해 만들어진 검증과정이다.\n",
        "(여기서 정규성은 정규분포를 따르냐에 대한 여부)\n",
        "p-value가 0.05 이상이면 귀무가설 채택(정규성을 따른다)\n",
        "p-value가 0.05 이하라면 대립가설 채택(정규성을 따르지 않는다)\n",
        "\n",
        "여기서 0.05 는 alpha level로 일반적으로 0.05(확률이 95% 이상이다)를 채택하나, 타 값이 올수도 있다."
      ],
      "metadata": {
        "id": "tpev3h9wF9e5"
      }
    },
    {
      "cell_type": "code",
      "source": [
        "# 1. 다음 데이터의 정규성을 검증하라\n",
        "\n",
        "import pandas as pd\n",
        "import matplotlib.pyplot as plt\n",
        "df = pd.read_csv('https://raw.githubusercontent.com/Datamanim/datarepo/main/scipy/normal1.csv')\n",
        "# plt.hist(df)\n",
        "# plt.show()\n",
        "\n",
        "from scipy.stats import shapiro\n",
        "shapiro(df)\n",
        "# 샤피로 검증시 p-value가 0.34이므로, 유의수준 5%에서 귀무가설(\"데이터는 검증성을 가진다\")를 기각할 수 없다.\n"
      ],
      "metadata": {
        "colab": {
          "base_uri": "https://localhost:8080/"
        },
        "id": "xzJXZiVrGVlE",
        "outputId": "dc12e33b-15ae-42f3-a5d8-1a05d6dad9bc"
      },
      "execution_count": null,
      "outputs": [
        {
          "output_type": "execute_result",
          "data": {
            "text/plain": [
              "ShapiroResult(statistic=0.9981444478034973, pvalue=0.34849318861961365)"
            ]
          },
          "metadata": {},
          "execution_count": 10
        }
      ]
    },
    {
      "cell_type": "code",
      "source": [
        "import pandas as pd\n",
        "import matplotlib.pyplot as plt\n",
        "df = pd.read_csv('https://raw.githubusercontent.com/Datamanim/datarepo/main/scipy/normal3.csv')\n",
        "plt.hist(df)\n",
        "plt.show()\n",
        "\n",
        "from scipy.stats import shapiro\n",
        "print(shapiro(df).pvalue)\n",
        "# 샤피로 검증시 p-value 가 2.3e-16 이므로 유의수준 5%에서 \"데이터는 정규성을 가진다를 기각하고, 대립가설을 채택한다\"\n",
        "# 데이터는 정규성을 가지지 않는다\n",
        "# print(help(shapiro))"
      ],
      "metadata": {
        "colab": {
          "base_uri": "https://localhost:8080/",
          "height": 448
        },
        "id": "pSLXvWCwHcQB",
        "outputId": "a8c9b253-75d8-4104-9a44-674563497eba"
      },
      "execution_count": null,
      "outputs": [
        {
          "output_type": "display_data",
          "data": {
            "text/plain": [
              "<Figure size 640x480 with 1 Axes>"
            ],
            "image/png": "[encoded data removed]"
          },
          "metadata": {}
        },
        {
          "output_type": "stream",
          "name": "stdout",
          "text": [
            "2.309641794969743e-16\n"
          ]
        }
      ]
    },
    {
      "cell_type": "code",
      "source": [
        "#다음 데이터를 로그 변환후 정규성을 가지는지 확인하라.\n",
        "import numpy as np\n",
        "import matplotlib.pyplot as plt\n",
        "import pandas as pd\n",
        "df = pd.read_csv('https://raw.githubusercontent.com/Datamanim/datarepo/main/scipy/normal3.csv')\n",
        "log_y_data = np.log1p(df) # 0값이 포함된 것에 로그변환을 하려면 log1p를 사용한다 (1+을 해주고 로그변환)\n",
        "\n",
        "# plt.hist(log_y_data)\n",
        "# plt.show()\n",
        "\n",
        "from scipy.stats import shapiro\n",
        "print(shapiro(log_y_data).pvalue)\n",
        "# shapiro검증시 pvalue가 0.17이 나온다. 이 경우 귀무가설을 채택한다(정규성을 보인다)"
      ],
      "metadata": {
        "colab": {
          "base_uri": "https://localhost:8080/"
        },
        "id": "5uMEx5wMJNsi",
        "outputId": "f6b91604-eca8-44e9-e382-206b42f5b6f1"
      },
      "execution_count": null,
      "outputs": [
        {
          "output_type": "stream",
          "name": "stdout",
          "text": [
            "0.17540602385997772\n"
          ]
        }
      ]
    },
    {
      "cell_type": "code",
      "source": [
        "# 다음 데이터의 정규성을 검증하라\n",
        "import pandas as pd\n",
        "import matplotlib.pyplot as plt\n",
        "df = pd.read_csv('https://raw.githubusercontent.com/Datamanim/datarepo/main/scipy/normal6.csv')\n",
        "# plt.hist(df)\n",
        "# plt.show()\n",
        "\n",
        "# from scipy.stats import shapiro\n",
        "# shapiro(df)   # shapiro 검증에 의하면 p-value는 0.15 로 기준값인 0.05(or 0.01) 보다 높아 정규성을 보인다 할 수 있다.\n",
        "              # 하지만, 표본이 5000개가 넘어가는 경우에는 샤피론 검증은 정확하지 않을 수 있다.\n",
        "from scipy.stats import anderson\n",
        "print(anderson(df[\"data\"].values))\n",
        "\n",
        "'''\n",
        "significance_level는 유의 확률값을 나타내며 critical_values는 각 유의 확률값의 기준점이 된다.\n",
        "5%유의 수준에서 검정을 진행하려면 statistic값인 0.82이 significance_level 이 5.에 위치한 인덱스를\n",
        "critical_values값에서 비교하면 된다. 그 값은 0.786이므로 이보다 큰 0.82을 가지므로\n",
        "귀무가설을 기각하고 대립가설을 채택한다 -> 데이터는 정규성을 가지지 않는다고 판단한다.\n",
        "'''"
      ],
      "metadata": {
        "colab": {
          "base_uri": "https://localhost:8080/"
        },
        "id": "aVSmDd6mLADB",
        "outputId": "3b119bd9-b3ee-4dfa-d0b7-6564bfdfe29c"
      },
      "execution_count": null,
      "outputs": [
        {
          "output_type": "stream",
          "name": "stdout",
          "text": [
            "AndersonResult(statistic=0.8266993530405671, critical_values=array([0.576, 0.656, 0.786, 0.917, 1.091]), significance_level=array([15. , 10. ,  5. ,  2.5,  1. ]), fit_result=  params: FitParams(loc=299.95980319533163, scale=5.031806887885131)\n",
            " success: True\n",
            " message: '`anderson` successfully fit the distribution to the data.')\n"
          ]
        }
      ]
    },
    {
      "cell_type": "markdown",
      "source": [
        "### 단일 표본 t-검정\n",
        "특정한 평균을 기준으로 해당 평균의 표본이 같은지를 검정하는 것.\n",
        "\n",
        "보통 정규성을 만족하면 단일표본검정,  \n",
        "정규성을 만족하지 않으면 윌콕슨 부호순위 검정을 실시한다."
      ],
      "metadata": {
        "id": "OoKqAt77MxoM"
      }
    },
    {
      "cell_type": "code",
      "source": [
        "\n",
        "# 100명의 키 정보가 들어 있는 데이터가 있다.데이터가 정규성을 만족하는지 확인하라.\n",
        "# 그리고 평균키는 165라 판단할수 있는지 귀무가설과 대립가설을 설정한 후 유의수준 5%로 검정하라.\n",
        "\n",
        "import pandas as pd\n",
        "df = pd.read_csv('https://raw.githubusercontent.com/Datamanim/datarepo/main/scipy/height1.csv')\n",
        "from scipy.stats import ttest_1samp, shapiro, wilcoxon\n",
        "\n",
        "shapiro_pvalue = shapiro(df).pvalue\n",
        "if shapiro_pvalue >= 0.05 :\n",
        "  print(\"이 표본은 정규성을 띈다, 즉 단일 표본 t 검정을 실시한다.\")\n",
        "  print('단일표본 t-test의 귀무가설은 \"100명 키의 평균은 165이다.\" 이며 대립가설은 \"100명 키의 평균은 165가 아니다.\" 이다')\n",
        "  static, pvalue = ttest_1samp(df[\"height\"],165)\n",
        "  print(\"t-검정의 pvalue값은 : \",pvalue)\n",
        "else :\n",
        "  print(\"이 표본은 정규성을 띄지 않는다.윌콕슨 부호순위 검정을 실시한다.\")\n",
        "  print('윌콕슨 순위 부호 검정의 귀무가설은 \"100명 키의 평균은 165이다.\" 이며 대립가설은 \"100명 키의 평균은 165가 아니다.\" 이다')\n",
        "  static, pvalue = wilcoxon(df[\"height\"]-165)"
      ],
      "metadata": {
        "colab": {
          "base_uri": "https://localhost:8080/"
        },
        "id": "dbmAjfmCMxEJ",
        "outputId": "05bb40dd-2246-4f82-e364-db614ef47719"
      },
      "execution_count": null,
      "outputs": [
        {
          "output_type": "stream",
          "name": "stdout",
          "text": [
            "이 표본은 정규성을 띈다, 즉 단일 표본 t 검정을 실시한다.\n",
            "단일표본 t-test의 귀무가설은 \"100명 키의 평균은 165이다.\" 이며 대립가설은 \"100명 키의 평균은 165가 아니다.\" 이다\n",
            "t-검정의 pvalue값은 :  0.0018367171548080209\n"
          ]
        }
      ]
    },
    {
      "cell_type": "markdown",
      "source": [
        "### 등분산 검정\n",
        "두 정규성을 만족하는 데이터에서 생성된 두 개의 데이터 집합으로부터 두 정규분포의 모분산이 같은지 확인하기 위한 검정이다.  \n",
        "scipy의 stats에서 이를 위한 bartlett, fligner, levene명령을 제공한다.\n"
      ],
      "metadata": {
        "id": "HnMWKEUIGkAj"
      }
    },
    {
      "cell_type": "code",
      "source": [
        "import pandas as pd\n",
        "df = pd.read_csv('https://raw.githubusercontent.com/Datamanim/datarepo/main/scipy/scipy2.csv')\n",
        "df.head()\n",
        "\n",
        "from scipy.stats import bartlett\n",
        "from scipy.stats import fligner\n",
        "from scipy.stats import levene\n",
        "a = df[df[\"class\"] == 'A'].score\n",
        "b = df[df[\"class\"] == 'B'].score\n",
        "\n",
        "print(bartlett(a,b))\n",
        "print(fligner(a,b,center='median'))\n",
        "print(fligner(a,b,center='mean'))\n",
        "print(levene(a,b,center='median'))\n",
        "print(levene(a,b,center='mean'))\n",
        "\n",
        "# Bartlett’s test : 비 정규성에 민감하기 때문에 정규성을 따를때에만 사용한다\n",
        "# levene's test : 정규성에 상관없이 연속적인 분포로 데이터를 구했을때 사용한다.\n",
        "\n",
        "# 등분산검정의 방법은 3가지가 있다. pvalue값은 5% 유의수준이라면 0.05보다 작은 경우 \"각 그룹은 등분산이다\"라는 귀무가설을 기각한다\n",
        "# 아래의 결과를 보면 모두 0.05보다 크므로 귀무가설을 기각할수 없음을 알 수 있다."
      ],
      "metadata": {
        "colab": {
          "base_uri": "https://localhost:8080/"
        },
        "id": "AJUqx9vPG8Uh",
        "outputId": "efbdd65a-20d3-4191-b0d4-594ae60831b7"
      },
      "execution_count": null,
      "outputs": [
        {
          "output_type": "stream",
          "name": "stdout",
          "text": [
            "BartlettResult(statistic=0.26035880448930865, pvalue=0.609873758447687)\n",
            "FlignerResult(statistic=0.7281251154135562, pvalue=0.39349158741002765)\n",
            "FlignerResult(statistic=0.8272211734319945, pvalue=0.36307728836821906)\n",
            "LeveneResult(statistic=0.3145466542912649, pvalue=0.5751662820554713)\n",
            "LeveneResult(statistic=0.5086970687685527, pvalue=0.4760514837800255)\n"
          ]
        }
      ]
    },
    {
      "cell_type": "code",
      "source": [
        "import pandas as pd\n",
        "df = pd.read_csv('https://raw.githubusercontent.com/Datamanim/datarepo/main/scipy/scipy6.csv')\n",
        "\n",
        "from scipy.stats import bartlett\n",
        "from scipy.stats import fligner\n",
        "from scipy.stats import levene\n",
        "\n",
        "print(bartlett(df.A, df.B))\n",
        "print(fligner(df.A, df.B))\n",
        "print(levene(df.A, df.B))\n",
        "\n",
        "from scipy.stats import shapiro\n",
        "print(shapiro(df.A), shapiro(df.B))  # 둘다 정규성을 만족하지 않으므로, levene를 선택하는게 옳을듯?\n",
        "\n",
        "#BartlettResult로는 등분산을 띄지만\n",
        "#LeveneResult로는 등분산을 띄지 않는다"
      ],
      "metadata": {
        "colab": {
          "base_uri": "https://localhost:8080/"
        },
        "id": "cjkc1embJV_a",
        "outputId": "cc451c4a-a7a0-4b2d-8cb2-da335efa749c"
      },
      "execution_count": null,
      "outputs": [
        {
          "output_type": "stream",
          "name": "stdout",
          "text": [
            "BartlettResult(statistic=2.3832178811043527, pvalue=0.12264468401745829)\n",
            "FlignerResult(statistic=5.124831619122788, pvalue=0.023585858890699054)\n",
            "LeveneResult(statistic=5.147914610463281, pvalue=0.023868975493455683)\n",
            "ShapiroResult(statistic=0.964852511882782, pvalue=0.00016999404761008918) ShapiroResult(statistic=0.9371628165245056, pvalue=4.4986816760683723e-07)\n"
          ]
        }
      ]
    },
    {
      "cell_type": "markdown",
      "source": [
        "### 독립표본검정\n",
        "두 집단의 평균 비교이다.\n",
        "\n",
        "* 데이터가 정규성을 가지는 경우(모수적 검정)\n",
        "두 집단의 등분산 검정을 한 후  \n",
        "  - ```python\n",
        "  from scipy.stats import ttest_ind\n",
        "    ttest_ind(df1,df2,equal_var=<등분산 True/False>)\n",
        "    ```\n",
        "\n",
        "* 데이터가 정규성을 가지지 않는 경우(비모수적 검정)\n",
        "\n",
        "세부 내용은 아래 예시 참조."
      ],
      "metadata": {
        "id": "43B6WF8fNCWD"
      }
    },
    {
      "cell_type": "code",
      "source": [
        "#두개 학급의 시험성적에 대한 데이터이다. 두 학습의 시험 평균(비모수검정의 경우 중위값)은 동일하다 말할 수 있는지 확인 하라\n",
        "\n",
        "import pandas as pd\n",
        "import matplotlib.pyplot as plt\n",
        "df1 = pd.read_csv('https://raw.githubusercontent.com/Datamanim/datarepo/main/scipy/ind1.csv')\n",
        "df2 = pd.read_csv('https://raw.githubusercontent.com/Datamanim/datarepo/main/scipy/ind2.csv')\n",
        "\n",
        "from scipy.stats import bartlett,levene\n",
        "print(bartlett(df1[\"data\"], df2[\"data\"]))   #\n",
        "print(levene(df1[\"data\"], df2[\"data\"]))\n",
        "from scipy.stats import ttest_ind\n",
        "import numpy as np\n",
        "print(ttest_ind(df1[\"data\"], df2[\"data\"],equal_var = True))\n",
        "#pvalue 가 0.006 이므로 귀무가설(각 그룹의 평균은 동일하다) 를 기각하고 대립가설을 채택한다"
      ],
      "metadata": {
        "colab": {
          "base_uri": "https://localhost:8080/"
        },
        "id": "PzqZmpEF9-cx",
        "outputId": "ce59ea0b-e198-4d09-e548-82ac32f218c2"
      },
      "execution_count": null,
      "outputs": [
        {
          "output_type": "stream",
          "name": "stdout",
          "text": [
            "BartlettResult(statistic=4.170597307474754, pvalue=0.04113129672708929)\n",
            "LeveneResult(statistic=2.5337683795339547, pvalue=0.11302904824469093)\n",
            "TtestResult(statistic=2.7671907368517195, pvalue=0.00619015106792926, df=198.0)\n"
          ]
        }
      ]
    },
    {
      "cell_type": "code",
      "source": [
        "#두개 학급의 시험성적에 대한 데이터이다. 두 학습의 시험 평균(비모수검정의 경우 중위값)은 동일하다 말할 수 있는지 확인 하라\n",
        "import pandas as pd\n",
        "import matplotlib.pyplot as plt\n",
        "df = pd.read_csv('https://raw.githubusercontent.com/Datamanim/datarepo/main/scipy/scipy5.csv')\n",
        "\n",
        "from scipy.stats import shapiro\n",
        "\n",
        "\n",
        "print(shapiro(df[\"B\"].dropna()))\n",
        "print(shapiro(df[\"A\"]))\n",
        "# 두가지 모두 정규성을 띄지 않으므로 비모수 검정을 실행한다.\n",
        "from scipy.stats import mannwhitneyu, ranksums\n",
        "\n",
        "print(mannwhitneyu(df['A'],df['B'].dropna()))\n",
        "print(ranksums(df['A'],df['B'].dropna()))\n",
        "# Mann-Whitney U Test 검정 결과 pvalue는 0.49값으로 귀무가설(평균은같다)를 기각 할 수 없다. 두그룹의 평균은 동일하다 말할 수 있다.\n",
        "# 윌콕슨 순위합 검정(ranksums)으로 확인 해봐도 같은 결과가 나온다.\n"
      ],
      "metadata": {
        "colab": {
          "base_uri": "https://localhost:8080/"
        },
        "id": "d6ytryD0QSsi",
        "outputId": "ef6edb85-648b-4ecb-c568-9d8d2bdf045e"
      },
      "execution_count": null,
      "outputs": [
        {
          "output_type": "stream",
          "name": "stdout",
          "text": [
            "ShapiroResult(statistic=0.9639433026313782, pvalue=0.00013568344002123922)\n",
            "ShapiroResult(statistic=0.93753981590271, pvalue=6.175894240456614e-10)\n",
            "MannwhitneyuResult(statistic=27036.0, pvalue=0.9807458376150018)\n",
            "RanksumsResult(statistic=0.02446942170858557, pvalue=0.9804781743503561)\n",
            "300\n"
          ]
        }
      ]
    },
    {
      "cell_type": "markdown",
      "source": [
        "### 대응표본 t검정\n",
        "두 검정의 차이를 보고자할때 사용한다.\n",
        "즉 동일한 집단의 '사전' 과 '사후'의 차이를 보고자 할때 사용한다."
      ],
      "metadata": {
        "id": "CYe_CFIfR3c9"
      }
    },
    {
      "cell_type": "code",
      "source": [
        "#특정 질병 집단의 투약 전후의 혈류량 변화를 나타낸 데이터이다. 투약 전후의 변화가 있는지 검정하라\n",
        "import pandas as pd\n",
        "import matplotlib.pyplot as plt\n",
        "df = pd.read_csv('https://raw.githubusercontent.com/Datamanim/datarepo/main/scipy/rel2.csv')\n",
        "\n",
        "from scipy.stats import shapiro\n",
        "\n",
        "print(df.head())\n",
        "\n",
        "before = df['before']\n",
        "after = df['after']\n",
        "print(shapiro(before))\n",
        "print(shapiro(after))\n",
        "\n",
        "from scipy.stats import levene\n",
        "print()\n",
        "print(levene(before,after))\n",
        "\n",
        "\n",
        "from scipy.stats import ttest_rel\n",
        "print(ttest_rel(before,after))\n",
        "\n",
        "\n",
        "# 정규성 가짐 , 등분산성 가짐 -> 대응표본의 경우 등분산성이 파라미터에 영향을 주지않음,\n",
        "# 대응표본 t 검정 결과 pvalue는 0.01로 유의수준 5%내에서 귀무가설을 기각한다 (전 후 평균은 같지 않다)"
      ],
      "metadata": {
        "colab": {
          "base_uri": "https://localhost:8080/"
        },
        "id": "Ht32Yy7_QeWU",
        "outputId": "55602e90-8b05-40cf-a8be-42421f6ea90d"
      },
      "execution_count": null,
      "outputs": [
        {
          "output_type": "stream",
          "name": "stdout",
          "text": [
            "       before       after\n",
            "0  216.289726  175.897620\n",
            "1  190.279454  189.295934\n",
            "2  217.744689  219.233935\n",
            "3  235.021264  195.021021\n",
            "4  234.098484  213.218227\n",
            "ShapiroResult(statistic=0.9907895922660828, pvalue=0.6065835952758789)\n",
            "ShapiroResult(statistic=0.9916961193084717, pvalue=0.6923638582229614)\n",
            "\n",
            "LeveneResult(statistic=0.06427968690211128, pvalue=0.8000741651677987)\n",
            "TtestResult(statistic=-2.5535473487670677, pvalue=0.011926744724546513, df=119)\n"
          ]
        }
      ]
    },
    {
      "cell_type": "markdown",
      "source": [
        "# 카이제곱 검정\n",
        "일원 카이제곱검정 (chisquare , 카이제곱 적합도 검정)\n",
        "한 개의 요인에 의해 k개의 범주를 가질때 이론적 분포를 따르는지 검정\n",
        "이원 카이제곱검정 (chi2_contingency ,fisher_exact(빈도수 5개 이하 셀이 20% 이상일때) , 카이제곱독립검정)\n",
        "모집단이 두개의 변수에 의해 범주화 되었을 때, 두 변수들 사이의 관계가 독립인지 아닌지 검정"
      ],
      "metadata": {
        "id": "3LTrOtW6TVgB"
      }
    },
    {
      "cell_type": "code",
      "source": [
        "#144회 주사위를 던졌을때, 각 눈금별로 나온 횟수를 나타낸다. 이 데이터는 주사위의 분포에서 나올 가능성이 있는지 검정하라\n",
        "\n",
        "import pandas as pd\n",
        "import matplotlib.pyplot as plt\n",
        "df = pd.read_csv('https://raw.githubusercontent.com/Datamanim/datarepo/main/scipy/dice.csv')\n",
        "\n",
        "print(df.head())\n",
        "from scipy.stats import chisquare\n",
        "# 기대값 뽑기\n",
        "expectedValue = (df[\"counts\"].sum())/6\n",
        "chisquare(df.counts,expectedValue)"
      ],
      "metadata": {
        "colab": {
          "base_uri": "https://localhost:8080/"
        },
        "id": "mvccXwI7TU5b",
        "outputId": "021f3fd8-0185-4819-c8ca-d6635d134985"
      },
      "execution_count": null,
      "outputs": [
        {
          "output_type": "stream",
          "name": "stdout",
          "text": [
            "   dice_number  counts\n",
            "0            1      24\n",
            "1            2      20\n",
            "2            3      28\n",
            "3            4      22\n",
            "4            5      28\n"
          ]
        },
        {
          "output_type": "execute_result",
          "data": {
            "text/plain": [
              "Power_divergenceResult(statistic=2.333333333333333, pvalue=0.8013589222076911)"
            ]
          },
          "metadata": {},
          "execution_count": 41
        }
      ]
    },
    {
      "cell_type": "code",
      "source": [
        "#다음 데이터는 어떤 집단의 왼손잡이, 오른손 잡이의 숫자를 나타낸다. 인간의 왼손잡이와 오른손잡이의 비율을 0.2:0.8로 알려져있다.이 집단에서 왼손과 오른손 잡이의 비율이 적합한지 검정하라\n",
        "\n",
        "import pandas as pd\n",
        "import matplotlib.pyplot as plt\n",
        "df = pd.read_csv('https://raw.githubusercontent.com/Datamanim/datarepo/main/scipy/hands2.csv')\n",
        "\n",
        "target = df.hands.value_counts().to_frame()\n",
        "target['expected'] = [int(target.hands.sum()*0.8),int(target.hands.sum()*0.2)]\n",
        "\n",
        "from scipy.stats import chisquare\n",
        "print(chisquare(target.hands,target.expected))\n",
        "## p-value는 0.02로 유의수준 5%이내에서 귀무가설을 기각하고 대립가설을 채택한다"
      ],
      "metadata": {
        "colab": {
          "base_uri": "https://localhost:8080/"
        },
        "id": "bPcJg8kPUVfV",
        "outputId": "50be0f13-640a-4e4d-ad36-8b2562edc7b6"
      },
      "execution_count": null,
      "outputs": [
        {
          "output_type": "stream",
          "name": "stdout",
          "text": [
            "Power_divergenceResult(statistic=5.0, pvalue=0.025347318677468325)\n"
          ]
        }
      ]
    },
    {
      "cell_type": "code",
      "source": [
        "import pandas as pd\n",
        "import matplotlib.pyplot as plt\n",
        "df = pd.read_csv('https://raw.githubusercontent.com/Datamanim/datarepo/main/body/body.csv')\n",
        "df.head()"
      ],
      "metadata": {
        "id": "LGsZVuT4WZWL",
        "outputId": "28546256-3a59-4da0-9a76-b2689f76b605",
        "colab": {
          "base_uri": "https://localhost:8080/",
          "height": 224
        }
      },
      "execution_count": null,
      "outputs": [
        {
          "output_type": "execute_result",
          "data": {
            "text/plain": [
              "   측정나이 측정회원성별  신장 : cm  체중 : kg  체지방율 : %  이완기혈압(최저) : mmHg  \\\n",
              "0  59.0      M    175.0     70.6      19.2              91.0   \n",
              "1  40.0      F    161.4     45.8      21.7              62.0   \n",
              "2  27.0      M    176.6     84.8      19.2              87.0   \n",
              "3  38.0      M    167.6     76.7      24.7              63.0   \n",
              "4  21.0      M    165.2     66.2      21.5              83.0   \n",
              "\n",
              "   수축기혈압(최고) : mmHg  악력D : kg  앉아윗몸앞으로굽히기 : cm  교차윗몸일으키기 : 회  제자리 멀리뛰기 : cm 등급  \n",
              "0             150.0      40.6             12.2          30.0          179.0  C  \n",
              "1             119.0      22.1             16.0          32.0          165.0  B  \n",
              "2             153.0      45.9             13.2          61.0          216.0  B  \n",
              "3             132.0      43.6             16.0          45.0          231.0  A  \n",
              "4             106.0      33.5             10.6          46.0          198.0  C  "
            ],
            "text/html": [
              "\n",
              "  <div id=\"df-dcbbc476-02b4-44a3-907b-4ff766f26fa3\" class=\"colab-df-container\">\n",
              "    <div>\n",
              "<style scoped>\n",
              "    .dataframe tbody tr th:only-of-type {\n",
              "        vertical-align: middle;\n",
              "    }\n",
              "\n",
              "    .dataframe tbody tr th {\n",
              "        vertical-align: top;\n",
              "    }\n",
              "\n",
              "    .dataframe thead th {\n",
              "        text-align: right;\n",
              "    }\n",
              "</style>\n",
              "<table border=\"1\" class=\"dataframe\">\n",
              "  <thead>\n",
              "    <tr style=\"text-align: right;\">\n",
              "      <th></th>\n",
              "      <th>측정나이</th>\n",
              "      <th>측정회원성별</th>\n",
              "      <th>신장 : cm</th>\n",
              "      <th>체중 : kg</th>\n",
              "      <th>체지방율 : %</th>\n",
              "      <th>이완기혈압(최저) : mmHg</th>\n",
              "      <th>수축기혈압(최고) : mmHg</th>\n",
              "      <th>악력D : kg</th>\n",
              "      <th>앉아윗몸앞으로굽히기 : cm</th>\n",
              "      <th>교차윗몸일으키기 : 회</th>\n",
              "      <th>제자리 멀리뛰기 : cm</th>\n",
              "      <th>등급</th>\n",
              "    </tr>\n",
              "  </thead>\n",
              "  <tbody>\n",
              "    <tr>\n",
              "      <th>0</th>\n",
              "      <td>59.0</td>\n",
              "      <td>M</td>\n",
              "      <td>175.0</td>\n",
              "      <td>70.6</td>\n",
              "      <td>19.2</td>\n",
              "      <td>91.0</td>\n",
              "      <td>150.0</td>\n",
              "      <td>40.6</td>\n",
              "      <td>12.2</td>\n",
              "      <td>30.0</td>\n",
              "      <td>179.0</td>\n",
              "      <td>C</td>\n",
              "    </tr>\n",
              "    <tr>\n",
              "      <th>1</th>\n",
              "      <td>40.0</td>\n",
              "      <td>F</td>\n",
              "      <td>161.4</td>\n",
              "      <td>45.8</td>\n",
              "      <td>21.7</td>\n",
              "      <td>62.0</td>\n",
              "      <td>119.0</td>\n",
              "      <td>22.1</td>\n",
              "      <td>16.0</td>\n",
              "      <td>32.0</td>\n",
              "      <td>165.0</td>\n",
              "      <td>B</td>\n",
              "    </tr>\n",
              "    <tr>\n",
              "      <th>2</th>\n",
              "      <td>27.0</td>\n",
              "      <td>M</td>\n",
              "      <td>176.6</td>\n",
              "      <td>84.8</td>\n",
              "      <td>19.2</td>\n",
              "      <td>87.0</td>\n",
              "      <td>153.0</td>\n",
              "      <td>45.9</td>\n",
              "      <td>13.2</td>\n",
              "      <td>61.0</td>\n",
              "      <td>216.0</td>\n",
              "      <td>B</td>\n",
              "    </tr>\n",
              "    <tr>\n",
              "      <th>3</th>\n",
              "      <td>38.0</td>\n",
              "      <td>M</td>\n",
              "      <td>167.6</td>\n",
              "      <td>76.7</td>\n",
              "      <td>24.7</td>\n",
              "      <td>63.0</td>\n",
              "      <td>132.0</td>\n",
              "      <td>43.6</td>\n",
              "      <td>16.0</td>\n",
              "      <td>45.0</td>\n",
              "      <td>231.0</td>\n",
              "      <td>A</td>\n",
              "    </tr>\n",
              "    <tr>\n",
              "      <th>4</th>\n",
              "      <td>21.0</td>\n",
              "      <td>M</td>\n",
              "      <td>165.2</td>\n",
              "      <td>66.2</td>\n",
              "      <td>21.5</td>\n",
              "      <td>83.0</td>\n",
              "      <td>106.0</td>\n",
              "      <td>33.5</td>\n",
              "      <td>10.6</td>\n",
              "      <td>46.0</td>\n",
              "      <td>198.0</td>\n",
              "      <td>C</td>\n",
              "    </tr>\n",
              "  </tbody>\n",
              "</table>\n",
              "</div>\n",
              "    <div class=\"colab-df-buttons\">\n",
              "\n",
              "  <div class=\"colab-df-container\">\n",
              "    <button class=\"colab-df-convert\" onclick=\"convertToInteractive('df-dcbbc476-02b4-44a3-907b-4ff766f26fa3')\"\n",
              "            title=\"Convert this dataframe to an interactive table.\"\n",
              "            style=\"display:none;\">\n",
              "\n",
              "  <svg xmlns=\"http://www.w3.org/2000/svg\" height=\"24px\" viewBox=\"0 -960 960 960\">\n",
              "    <path d=\"M120-120v-720h720v720H120Zm60-500h600v-160H180v160Zm220 220h160v-160H400v160Zm0 220h160v-160H400v160ZM180-400h160v-160H180v160Zm440 0h160v-160H620v160ZM180-180h160v-160H180v160Zm440 0h160v-160H620v160Z\"/>\n",
              "  </svg>\n",
              "    </button>\n",
              "\n",
              "  <style>\n",
              "    .colab-df-container {\n",
              "      display:flex;\n",
              "      gap: 12px;\n",
              "    }\n",
              "\n",
              "    .colab-df-convert {\n",
              "      background-color: #E8F0FE;\n",
              "      border: none;\n",
              "      border-radius: 50%;\n",
              "      cursor: pointer;\n",
              "      display: none;\n",
              "      fill: #1967D2;\n",
              "      height: 32px;\n",
              "      padding: 0 0 0 0;\n",
              "      width: 32px;\n",
              "    }\n",
              "\n",
              "    .colab-df-convert:hover {\n",
              "      background-color: #E2EBFA;\n",
              "      box-shadow: 0px 1px 2px rgba(60, 64, 67, 0.3), 0px 1px 3px 1px rgba(60, 64, 67, 0.15);\n",
              "      fill: #174EA6;\n",
              "    }\n",
              "\n",
              "    .colab-df-buttons div {\n",
              "      margin-bottom: 4px;\n",
              "    }\n",
              "\n",
              "    [theme=dark] .colab-df-convert {\n",
              "      background-color: #3B4455;\n",
              "      fill: #D2E3FC;\n",
              "    }\n",
              "\n",
              "    [theme=dark] .colab-df-convert:hover {\n",
              "      background-color: #434B5C;\n",
              "      box-shadow: 0px 1px 3px 1px rgba(0, 0, 0, 0.15);\n",
              "      filter: drop-shadow(0px 1px 2px rgba(0, 0, 0, 0.3));\n",
              "      fill: #FFFFFF;\n",
              "    }\n",
              "  </style>\n",
              "\n",
              "    <script>\n",
              "      const buttonEl =\n",
              "        document.querySelector('#df-dcbbc476-02b4-44a3-907b-4ff766f26fa3 button.colab-df-convert');\n",
              "      buttonEl.style.display =\n",
              "        google.colab.kernel.accessAllowed ? 'block' : 'none';\n",
              "\n",
              "      async function convertToInteractive(key) {\n",
              "        const element = document.querySelector('#df-dcbbc476-02b4-44a3-907b-4ff766f26fa3');\n",
              "        const dataTable =\n",
              "          await google.colab.kernel.invokeFunction('convertToInteractive',\n",
              "                                                    [key], {});\n",
              "        if (!dataTable) return;\n",
              "\n",
              "        const docLinkHtml = 'Like what you see? Visit the ' +\n",
              "          '<a target=\"_blank\" href=https://colab.research.google.com/notebooks/data_table.ipynb>data table notebook</a>'\n",
              "          + ' to learn more about interactive tables.';\n",
              "        element.innerHTML = '';\n",
              "        dataTable['output_type'] = 'display_data';\n",
              "        await google.colab.output.renderOutput(dataTable, element);\n",
              "        const docLink = document.createElement('div');\n",
              "        docLink.innerHTML = docLinkHtml;\n",
              "        element.appendChild(docLink);\n",
              "      }\n",
              "    </script>\n",
              "  </div>\n",
              "\n",
              "\n",
              "<div id=\"df-9112f484-448e-4ed5-975c-113394046b3a\">\n",
              "  <button class=\"colab-df-quickchart\" onclick=\"quickchart('df-9112f484-448e-4ed5-975c-113394046b3a')\"\n",
              "            title=\"Suggest charts\"\n",
              "            style=\"display:none;\">\n",
              "\n",
              "<svg xmlns=\"http://www.w3.org/2000/svg\" height=\"24px\"viewBox=\"0 0 24 24\"\n",
              "     width=\"24px\">\n",
              "    <g>\n",
              "        <path d=\"M19 3H5c-1.1 0-2 .9-2 2v14c0 1.1.9 2 2 2h14c1.1 0 2-.9 2-2V5c0-1.1-.9-2-2-2zM9 17H7v-7h2v7zm4 0h-2V7h2v10zm4 0h-2v-4h2v4z\"/>\n",
              "    </g>\n",
              "</svg>\n",
              "  </button>\n",
              "\n",
              "<style>\n",
              "  .colab-df-quickchart {\n",
              "      --bg-color: #E8F0FE;\n",
              "      --fill-color: #1967D2;\n",
              "      --hover-bg-color: #E2EBFA;\n",
              "      --hover-fill-color: #174EA6;\n",
              "      --disabled-fill-color: #AAA;\n",
              "      --disabled-bg-color: #DDD;\n",
              "  }\n",
              "\n",
              "  [theme=dark] .colab-df-quickchart {\n",
              "      --bg-color: #3B4455;\n",
              "      --fill-color: #D2E3FC;\n",
              "      --hover-bg-color: #434B5C;\n",
              "      --hover-fill-color: #FFFFFF;\n",
              "      --disabled-bg-color: #3B4455;\n",
              "      --disabled-fill-color: #666;\n",
              "  }\n",
              "\n",
              "  .colab-df-quickchart {\n",
              "    background-color: var(--bg-color);\n",
              "    border: none;\n",
              "    border-radius: 50%;\n",
              "    cursor: pointer;\n",
              "    display: none;\n",
              "    fill: var(--fill-color);\n",
              "    height: 32px;\n",
              "    padding: 0;\n",
              "    width: 32px;\n",
              "  }\n",
              "\n",
              "  .colab-df-quickchart:hover {\n",
              "    background-color: var(--hover-bg-color);\n",
              "    box-shadow: 0 1px 2px rgba(60, 64, 67, 0.3), 0 1px 3px 1px rgba(60, 64, 67, 0.15);\n",
              "    fill: var(--button-hover-fill-color);\n",
              "  }\n",
              "\n",
              "  .colab-df-quickchart-complete:disabled,\n",
              "  .colab-df-quickchart-complete:disabled:hover {\n",
              "    background-color: var(--disabled-bg-color);\n",
              "    fill: var(--disabled-fill-color);\n",
              "    box-shadow: none;\n",
              "  }\n",
              "\n",
              "  .colab-df-spinner {\n",
              "    border: 2px solid var(--fill-color);\n",
              "    border-color: transparent;\n",
              "    border-bottom-color: var(--fill-color);\n",
              "    animation:\n",
              "      spin 1s steps(1) infinite;\n",
              "  }\n",
              "\n",
              "  @keyframes spin {\n",
              "    0% {\n",
              "      border-color: transparent;\n",
              "      border-bottom-color: var(--fill-color);\n",
              "      border-left-color: var(--fill-color);\n",
              "    }\n",
              "    20% {\n",
              "      border-color: transparent;\n",
              "      border-left-color: var(--fill-color);\n",
              "      border-top-color: var(--fill-color);\n",
              "    }\n",
              "    30% {\n",
              "      border-color: transparent;\n",
              "      border-left-color: var(--fill-color);\n",
              "      border-top-color: var(--fill-color);\n",
              "      border-right-color: var(--fill-color);\n",
              "    }\n",
              "    40% {\n",
              "      border-color: transparent;\n",
              "      border-right-color: var(--fill-color);\n",
              "      border-top-color: var(--fill-color);\n",
              "    }\n",
              "    60% {\n",
              "      border-color: transparent;\n",
              "      border-right-color: var(--fill-color);\n",
              "    }\n",
              "    80% {\n",
              "      border-color: transparent;\n",
              "      border-right-color: var(--fill-color);\n",
              "      border-bottom-color: var(--fill-color);\n",
              "    }\n",
              "    90% {\n",
              "      border-color: transparent;\n",
              "      border-bottom-color: var(--fill-color);\n",
              "    }\n",
              "  }\n",
              "</style>\n",
              "\n",
              "  <script>\n",
              "    async function quickchart(key) {\n",
              "      const quickchartButtonEl =\n",
              "        document.querySelector('#' + key + ' button');\n",
              "      quickchartButtonEl.disabled = true;  // To prevent multiple clicks.\n",
              "      quickchartButtonEl.classList.add('colab-df-spinner');\n",
              "      try {\n",
              "        const charts = await google.colab.kernel.invokeFunction(\n",
              "            'suggestCharts', [key], {});\n",
              "      } catch (error) {\n",
              "        console.error('Error during call to suggestCharts:', error);\n",
              "      }\n",
              "      quickchartButtonEl.classList.remove('colab-df-spinner');\n",
              "      quickchartButtonEl.classList.add('colab-df-quickchart-complete');\n",
              "    }\n",
              "    (() => {\n",
              "      let quickchartButtonEl =\n",
              "        document.querySelector('#df-9112f484-448e-4ed5-975c-113394046b3a button');\n",
              "      quickchartButtonEl.style.display =\n",
              "        google.colab.kernel.accessAllowed ? 'block' : 'none';\n",
              "    })();\n",
              "  </script>\n",
              "</div>\n",
              "    </div>\n",
              "  </div>\n"
            ]
          },
          "metadata": {},
          "execution_count": 56
        }
      ]
    }
  ]
}
{
  "nbformat": 4,
  "nbformat_minor": 0,
  "metadata": {
    "colab": {
      "provenance": [],
      "mount_file_id": "1UwCq9W38cOf6FJH7TgQf_rBe_5818Nnl",
      "authorship_tag": "ABX9TyMqz1mvzs+TXmF6oOYUXDem",
      "include_colab_link": true
    },
    "kernelspec": {
      "name": "python3",
      "display_name": "Python 3"
    },
    "language_info": {
      "name": "python"
    }
  },
  "cells": [
    {
      "cell_type": "markdown",
      "metadata": {
        "id": "view-in-github",
        "colab_type": "text"
      },
      "source": [
        "<a href=\"https://colab.research.google.com/github/pgs2285/BigData_Analysis_License/blob/master/%EB%B9%85%EB%8D%B0%EC%9D%B4%ED%84%B0_%EB%B6%84%EC%84%9D%EA%B8%B0%EC%82%AC_%EC%8B%9C%ED%97%98%EC%A4%80%EB%B9%84_%EB%AA%A8%EC%9D%98%EA%B3%A0%EC%82%AC.ipynb\" target=\"_parent\"><img src=\"https://colab.research.google.com/assets/colab-badge.svg\" alt=\"Open In Colab\"/></a>"
      ]
    },
    {
      "cell_type": "markdown",
      "source": [
        "# 1회차\n",
        "\n",
        "## 1 유형\n",
        "\n",
        "주어지는 데이터는 153일 동안 공기의 질을 측정한 데이터셋이다.\n",
        "* Ozone : 오존농도\n",
        "* Solar.R : 태양 복사 강도\n",
        "* Wind : 평균 풍속\n",
        "* Temp : 최대 온도\n",
        "* Month : 월\n",
        "* Day : 일\n",
        "\n",
        "1. airquality 데이터에 대해서 결측치가 가장 많은 변수를 찾아서 해당 결측치를 0으로 대치하고, 결측치를 제외한 평균과 0으로 대치한 후의 평균과의 차이를 구하시오.\n",
        "2. Wind 변수에 대해서 Min-Max 정규화를 수행한 후 평균값과 Z 정규화를 수행한 후 평균 값의 차이를 구하시오.\n",
        "3. 월별(5월 ~ 9월) 평균 기온을 구하시오.\n"
      ],
      "metadata": {
        "id": "K88rJufYP3ge"
      }
    },
    {
      "cell_type": "code",
      "source": [
        "import pandas as pd\n",
        "import numpy as np\n",
        "df = pd.read_csv(\"/content/drive/MyDrive/Colab Notebooks/BigData분석기사CSV파일/airquality.csv\")\n",
        "print(df.info())\n",
        "# 결측치를 제외한 평균\n",
        "# df_copy = df.dropna(axis=0) # 결측치가 있는 행 제거후\n",
        "A_mean = np.mean(df[\"Ozone\"])\n",
        "df_copy = df\n",
        "df_copy[\"Ozone\"] = df[\"Ozone\"].fillna(0)\n",
        "B_mean = np.mean(df_copy[\"Ozone\"])\n",
        "print(A_mean - B_mean)\n",
        "# 1번 문제 정답 :  answer = 10.188\n",
        "\n",
        "from sklearn.preprocessing import MinMaxScaler\n",
        "from sklearn.preprocessing import StandardScaler\n",
        "\n",
        "mmScaler = MinMaxScaler()       # min-max 정규화\n",
        "stdScaler = StandardScaler()    # z 정규화\n",
        "\n",
        "df[\"mmScaler\"] = mmScaler.fit_transform(df[[\"Wind\"]])\n",
        "df[\"StandardScaler\"] = stdScaler.fit_transform(df[[\"Wind\"]])\n",
        "\n",
        "scalerMean = np.mean(df[\"mmScaler\"]) - np.mean(df[\"StandardScaler\"])\n",
        "print(scalerMean)\n",
        "\n",
        "# 2번 문제 정답 : 0.434506\n",
        "\n",
        "df.groupby(\"Month\").mean()[\"Temp\"]\n",
        "# 3번 문제 정답 : (5월 : 65.54), (6월 : 79.1), (7월 : 83.90), (8월 : 83.96), (9월 : 76.9)"
      ],
      "metadata": {
        "id": "OZH0FcjLQbA3",
        "outputId": "a59d3a0e-7125-41f5-9f54-0c21b61907cb",
        "colab": {
          "base_uri": "https://localhost:8080/"
        }
      },
      "execution_count": 19,
      "outputs": [
        {
          "output_type": "stream",
          "name": "stdout",
          "text": [
            "<class 'pandas.core.frame.DataFrame'>\n",
            "RangeIndex: 153 entries, 0 to 152\n",
            "Data columns (total 6 columns):\n",
            " #   Column   Non-Null Count  Dtype  \n",
            "---  ------   --------------  -----  \n",
            " 0   Ozone    116 non-null    float64\n",
            " 1   Solar.R  146 non-null    float64\n",
            " 2   Wind     153 non-null    float64\n",
            " 3   Temp     153 non-null    int64  \n",
            " 4   Month    153 non-null    int64  \n",
            " 5   Day      153 non-null    int64  \n",
            "dtypes: float64(3), int64(3)\n",
            "memory usage: 7.3 KB\n",
            "None\n",
            "10.188133874239352\n",
            "0.4346061231510147\n"
          ]
        },
        {
          "output_type": "execute_result",
          "data": {
            "text/plain": [
              "Month\n",
              "5    65.548387\n",
              "6    79.100000\n",
              "7    83.903226\n",
              "8    83.967742\n",
              "9    76.900000\n",
              "Name: Temp, dtype: float64"
            ]
          },
          "metadata": {},
          "execution_count": 19
        }
      ]
    },
    {
      "cell_type": "markdown",
      "source": [
        "## 제 2 유형\n",
        "데이터셋 : Bank_Personal_Loan_Modeling\n",
        "이 데이터 셋은 은행 고객 5,000명에 대한 데이터로 인구통계정보(연령, 소득 등), 고객과의 관계(담보, 증권계좌), 개인대출 등의 금융정보를 포함한다.  \n",
        "은행에서 수집한 고객 5,000명의 금융정보에 따른 대출여부가 들어있는 참조데이터를 이용허여 대출여부를 분류하는 가장 최적의 이웃의 크기값을 구하고, 이때 분류정확도를 산출하시오.  \n",
        "(단, 참조데이터는 7:3의 비율로 트레이닝 데이터와 테스트 데이터로 구분하고, 트레이닝 데이터와 테스트 데이터의 대출여부 비율도 유지한다. 또한 normalizer를 사용하여 스케일링을 진행한다)\n"
      ],
      "metadata": {
        "id": "PeMG9KcUT-2r"
      }
    },
    {
      "cell_type": "code",
      "source": [
        "import pandas as pd\n",
        "\n",
        "df = pd.read_csv(\"/content/drive/MyDrive/Colab Notebooks/BigData분석기사CSV파일/Bank_Personal_Loan_Modelling.csv\")\n",
        "\n",
        "from sklearn.preprocessing import Normalizer\n",
        "from sklearn.neighbors import KNeighborsClassifier\n",
        "from sklearn.model_selection import train_test_split\n",
        "\n",
        "scaler = Normalizer()\n",
        "df.drop([\"ID\",\"ZIP Code\"], axis = 1, inplace=True)\n",
        "\n",
        "X = df.drop(\"Personal Loan\", axis = 1)\n",
        "y = df[\"Personal Loan\"]\n",
        "\n",
        "\n",
        "X_train, X_test, y_train, y_test = train_test_split(X,y,test_size=0.3, random_state = 11)\n",
        "print(X_train.shape, X_test.shape, y_train.shape, y_test.shape)\n",
        "ans = []\n",
        "for i in range(1,15):\n",
        "  model = KNeighborsClassifier(n_neighbors = i)\n",
        "  model.fit(X_train,y_train)\n",
        "  pred = model.predict(X_test)\n",
        "  acc = model.score(X_test,y_test)\n",
        "  ans.append(acc)\n",
        "\n",
        "print(ans)"
      ],
      "metadata": {
        "id": "M3EfqgG1Uqu2",
        "outputId": "7a58a1a9-6c29-476c-b0e7-71a22234980b",
        "colab": {
          "base_uri": "https://localhost:8080/"
        }
      },
      "execution_count": 48,
      "outputs": [
        {
          "output_type": "stream",
          "name": "stdout",
          "text": [
            "(3500, 11) (1500, 11) (3500,) (1500,)\n",
            "[0.9153333333333333, 0.908, 0.9126666666666666, 0.908, 0.9166666666666666, 0.9086666666666666, 0.9106666666666666, 0.9086666666666666, 0.9066666666666666, 0.91, 0.9106666666666666, 0.9086666666666666, 0.9086666666666666, 0.9093333333333333]\n"
          ]
        }
      ]
    },
    {
      "cell_type": "markdown",
      "source": [
        "## 3유형\n",
        "한 고등학교의 학생 100명의 키가 height.csv에 저장되어 있다.\n",
        "1. 데이터의 표본분산을 구하시오\n",
        "2. 학생들의 평균키가 165인지 단일표본 t검정을 실행하려 한다. 검정 통계량을 구하시오\n",
        "3. 위 통계량의 p값을 구하고 유의수준 하에 가설검정 결과를 채택 기각중 하나를 선택하시오\n",
        "\n"
      ],
      "metadata": {
        "id": "blcBFYgIaC-c"
      }
    },
    {
      "cell_type": "code",
      "source": [
        "import pandas as pd\n",
        "df = pd.read_csv(\"/content/drive/MyDrive/Colab Notebooks/BigData분석기사CSV파일/height.csv\")\n",
        "\n",
        "import numpy as np\n",
        "var = np.var(df, ddof=0) # ddof = 0이면 표본분산, ddof=1이면 불편분산\n",
        "print(var)\n",
        "\n",
        "from scipy.stats import ttest_1samp\n",
        "# print(help(ttest_1samp))\n",
        "print(ttest_1samp(df,165))\n",
        "# t검정 통계량 구하는 공식 = (np.mean(df) - len(df)) / (np.std(df, ddof=1) / np.sqrt(n))"
      ],
      "metadata": {
        "id": "SO4uH_zOaCNQ",
        "outputId": "49337b9a-e182-46e4-f56d-dc8e9db1e2c8",
        "colab": {
          "base_uri": "https://localhost:8080/"
        }
      },
      "execution_count": 63,
      "outputs": [
        {
          "output_type": "stream",
          "name": "stdout",
          "text": [
            "height    67.273379\n",
            "dtype: float64\n",
            "TtestResult(statistic=array([1.83299146]), pvalue=array([0.06980908]), df=array([99]))\n"
          ]
        }
      ]
    }
  ]
}
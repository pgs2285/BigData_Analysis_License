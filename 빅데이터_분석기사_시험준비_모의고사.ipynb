{
  "nbformat": 4,
  "nbformat_minor": 0,
  "metadata": {
    "colab": {
      "provenance": [],
      "include_colab_link": true
    },
    "kernelspec": {
      "name": "python3",
      "display_name": "Python 3"
    },
    "language_info": {
      "name": "python"
    }
  },
  "cells": [
    {
      "cell_type": "markdown",
      "metadata": {
        "id": "view-in-github",
        "colab_type": "text"
      },
      "source": [
        "<a href=\"https://colab.research.google.com/github/pgs2285/BigData_Analysis_License/blob/master/%E1%84%87%E1%85%B5%E1%86%A8%E1%84%83%E1%85%A6%E1%84%8B%E1%85%B5%E1%84%90%E1%85%A5_%E1%84%87%E1%85%AE%E1%86%AB%E1%84%89%E1%85%A5%E1%86%A8%E1%84%80%E1%85%B5%E1%84%89%E1%85%A1_%E1%84%89%E1%85%B5%E1%84%92%E1%85%A5%E1%86%B7%E1%84%8C%E1%85%AE%E1%86%AB%E1%84%87%E1%85%B5_%E1%84%86%E1%85%A9%E1%84%8B%E1%85%B4%E1%84%80%E1%85%A9%E1%84%89%E1%85%A1.ipynb\" target=\"_parent\"><img src=\"https://colab.research.google.com/assets/colab-badge.svg\" alt=\"Open In Colab\"/></a>"
      ]
    },
    {
      "cell_type": "markdown",
      "source": [
        "# 1회차\n",
        "\n",
        "## 1 유형\n",
        "\n",
        "주어지는 데이터는 153일 동안 공기의 질을 측정한 데이터셋이다.\n",
        "* Ozone : 오존농도\n",
        "* Solar.R : 태양 복사 강도\n",
        "* Wind : 평균 풍속\n",
        "* Temp : 최대 온도\n",
        "* Month : 월\n",
        "* Day : 일\n",
        "\n",
        "1. airquality 데이터에 대해서 결측치가 가장 많은 변수를 찾아서 해당 결측치를 0으로 대치하고, 결측치를 제외한 평균과 0으로 대치한 후의 평균과의 차이를 구하시오.\n",
        "2. Wind 변수에 대해서 Min-Max 정규화를 수행한 후 평균값과 Z 정규화를 수행한 후 평균 값의 차이를 구하시오.\n",
        "3. 월별(5월 ~ 9월) 평균 기온을 구하시오.\n"
      ],
      "metadata": {
        "id": "K88rJufYP3ge"
      }
    },
    {
      "cell_type": "code",
      "source": [
        "import pandas as pd\n",
        "import numpy as np\n",
        "df = pd.read_csv(\"/content/drive/MyDrive/Colab Notebooks/BigData분석기사CSV파일/airquality.csv\")\n",
        "print(df.info())\n",
        "# 결측치를 제외한 평균\n",
        "# df_copy = df.dropna(axis=0) # 결측치가 있는 행 제거후\n",
        "A_mean = np.mean(df[\"Ozone\"])\n",
        "df_copy = df\n",
        "df_copy[\"Ozone\"] = df[\"Ozone\"].fillna(0)\n",
        "B_mean = np.mean(df_copy[\"Ozone\"])\n",
        "print(A_mean - B_mean)\n",
        "# 1번 문제 정답 :  answer = 10.188\n",
        "\n",
        "from sklearn.preprocessing import MinMaxScaler\n",
        "from sklearn.preprocessing import StandardScaler\n",
        "\n",
        "mmScaler = MinMaxScaler()       # min-max 정규화\n",
        "stdScaler = StandardScaler()    # z 정규화\n",
        "\n",
        "df[\"mmScaler\"] = mmScaler.fit_transform(df[[\"Wind\"]])\n",
        "df[\"StandardScaler\"] = stdScaler.fit_transform(df[[\"Wind\"]])\n",
        "\n",
        "scalerMean = np.mean(df[\"mmScaler\"]) - np.mean(df[\"StandardScaler\"])\n",
        "print(scalerMean)\n",
        "\n",
        "# 2번 문제 정답 : 0.434506\n",
        "\n",
        "df.groupby(\"Month\").mean()[\"Temp\"]\n",
        "# 3번 문제 정답 : (5월 : 65.54), (6월 : 79.1), (7월 : 83.90), (8월 : 83.96), (9월 : 76.9)"
      ],
      "metadata": {
        "id": "OZH0FcjLQbA3",
        "outputId": "a59d3a0e-7125-41f5-9f54-0c21b61907cb",
        "colab": {
          "base_uri": "https://localhost:8080/"
        }
      },
      "execution_count": null,
      "outputs": [
        {
          "output_type": "stream",
          "name": "stdout",
          "text": [
            "<class 'pandas.core.frame.DataFrame'>\n",
            "RangeIndex: 153 entries, 0 to 152\n",
            "Data columns (total 6 columns):\n",
            " #   Column   Non-Null Count  Dtype  \n",
            "---  ------   --------------  -----  \n",
            " 0   Ozone    116 non-null    float64\n",
            " 1   Solar.R  146 non-null    float64\n",
            " 2   Wind     153 non-null    float64\n",
            " 3   Temp     153 non-null    int64  \n",
            " 4   Month    153 non-null    int64  \n",
            " 5   Day      153 non-null    int64  \n",
            "dtypes: float64(3), int64(3)\n",
            "memory usage: 7.3 KB\n",
            "None\n",
            "10.188133874239352\n",
            "0.4346061231510147\n"
          ]
        },
        {
          "output_type": "execute_result",
          "data": {
            "text/plain": [
              "Month\n",
              "5    65.548387\n",
              "6    79.100000\n",
              "7    83.903226\n",
              "8    83.967742\n",
              "9    76.900000\n",
              "Name: Temp, dtype: float64"
            ]
          },
          "metadata": {},
          "execution_count": 19
        }
      ]
    },
    {
      "cell_type": "markdown",
      "source": [
        "## 제 2 유형\n",
        "데이터셋 : Bank_Personal_Loan_Modeling\n",
        "이 데이터 셋은 은행 고객 5,000명에 대한 데이터로 인구통계정보(연령, 소득 등), 고객과의 관계(담보, 증권계좌), 개인대출 등의 금융정보를 포함한다.  \n",
        "은행에서 수집한 고객 5,000명의 금융정보에 따른 대출여부가 들어있는 참조데이터를 이용허여 대출여부를 분류하는 가장 최적의 이웃의 크기값을 구하고, 이때 분류정확도를 산출하시오.  \n",
        "(단, 참조데이터는 7:3의 비율로 트레이닝 데이터와 테스트 데이터로 구분하고, 트레이닝 데이터와 테스트 데이터의 대출여부 비율도 유지한다. 또한 normalizer를 사용하여 스케일링을 진행한다)\n"
      ],
      "metadata": {
        "id": "PeMG9KcUT-2r"
      }
    },
    {
      "cell_type": "code",
      "source": [
        "import pandas as pd\n",
        "\n",
        "df = pd.read_csv(\"/content/drive/MyDrive/Colab Notebooks/BigData분석기사CSV파일/Bank_Personal_Loan_Modelling.csv\")\n",
        "\n",
        "from sklearn.preprocessing import Normalizer\n",
        "from sklearn.neighbors import KNeighborsClassifier\n",
        "from sklearn.model_selection import train_test_split\n",
        "\n",
        "scaler = Normalizer()\n",
        "df.drop([\"ID\",\"ZIP Code\"], axis = 1, inplace=True)\n",
        "\n",
        "X = df.drop(\"Personal Loan\", axis = 1)\n",
        "y = df[\"Personal Loan\"]\n",
        "\n",
        "\n",
        "X_train, X_test, y_train, y_test = train_test_split(X,y,test_size=0.3, random_state = 11)\n",
        "print(X_train.shape, X_test.shape, y_train.shape, y_test.shape)\n",
        "ans = []\n",
        "for i in range(1,15):\n",
        "  model = KNeighborsClassifier(n_neighbors = i)\n",
        "  model.fit(X_train,y_train)\n",
        "  pred = model.predict(X_test)\n",
        "  acc = model.score(X_test,y_test)\n",
        "  ans.append(acc)\n",
        "\n",
        "print(ans)"
      ],
      "metadata": {
        "id": "M3EfqgG1Uqu2",
        "outputId": "7a58a1a9-6c29-476c-b0e7-71a22234980b",
        "colab": {
          "base_uri": "https://localhost:8080/"
        }
      },
      "execution_count": null,
      "outputs": [
        {
          "output_type": "stream",
          "name": "stdout",
          "text": [
            "(3500, 11) (1500, 11) (3500,) (1500,)\n",
            "[0.9153333333333333, 0.908, 0.9126666666666666, 0.908, 0.9166666666666666, 0.9086666666666666, 0.9106666666666666, 0.9086666666666666, 0.9066666666666666, 0.91, 0.9106666666666666, 0.9086666666666666, 0.9086666666666666, 0.9093333333333333]\n"
          ]
        }
      ]
    },
    {
      "cell_type": "markdown",
      "source": [
        "## 3유형\n",
        "한 고등학교의 학생 100명의 키가 height.csv에 저장되어 있다.\n",
        "1. 데이터의 표본분산을 구하시오\n",
        "2. 학생들의 평균키가 165인지 단일표본 t검정을 실행하려 한다. 검정 통계량을 구하시오\n",
        "3. 위 통계량의 p값을 구하고 유의수준 하에 가설검정 결과를 채택 기각중 하나를 선택하시오\n",
        "\n"
      ],
      "metadata": {
        "id": "blcBFYgIaC-c"
      }
    },
    {
      "cell_type": "code",
      "source": [
        "import pandas as pd\n",
        "df = pd.read_csv(\"/content/drive/MyDrive/Colab Notebooks/BigData분석기사CSV파일/height.csv\")\n",
        "\n",
        "import numpy as np\n",
        "var = np.var(df, ddof=0) # ddof = 0이면 표본분산, ddof=1이면 불편분산\n",
        "print(var)\n",
        "\n",
        "from scipy.stats import ttest_1samp\n",
        "# print(help(ttest_1samp))\n",
        "print(ttest_1samp(df,165))\n",
        "# t검정 통계량 구하는 공식 = (np.mean(df) - len(df)) / (np.std(df, ddof=1) / np.sqrt(n))"
      ],
      "metadata": {
        "id": "SO4uH_zOaCNQ",
        "outputId": "49337b9a-e182-46e4-f56d-dc8e9db1e2c8",
        "colab": {
          "base_uri": "https://localhost:8080/"
        }
      },
      "execution_count": null,
      "outputs": [
        {
          "output_type": "stream",
          "name": "stdout",
          "text": [
            "height    67.273379\n",
            "dtype: float64\n",
            "TtestResult(statistic=array([1.83299146]), pvalue=array([0.06980908]), df=array([99]))\n"
          ]
        }
      ]
    },
    {
      "cell_type": "markdown",
      "source": [
        "# 2회차\n",
        "## 1유형\n",
        "데이터셋 : HR-Employee-Attrition  \n",
        "주어지는 데이터는 IBM의 근무자에 대한 직무정보와 퇴사여부를 정리한 것이다.  \n",
        "- 1. 데이터에서 'Attrition'은 퇴사여부에 대한 종속변수에 해당한다. 종속변수의 값을 다음과 같이 수치로 변환해 새 칼럼으로 추가하고 각 범주별 레코드 수를 계산하시오.\n",
        "- 2. 데이터셋의 데이터타입별 칼럼 개수를 계산하고, 범주형 변수 중 유일한 값을 1개만 가지고 있는 칼럼을 찾아내어 그 변수를 데이터에서 제거하시오.\n",
        "- 3. 원래 데이터에서 숫자형인 칼럼만 추출하여 새로운 데이터프레임을 생성하고, 각 변수간의 상관계수를 구하고, 상관계수가 0.9 이상인 두 개의 칼럼을 찾아내어 그 변수 중 하나를 제거하시오."
      ],
      "metadata": {
        "id": "LAK5QIBdqolL"
      }
    },
    {
      "cell_type": "code",
      "source": [
        "import pandas as pd\n",
        "df = pd.read_csv(\"/content/drive/MyDrive/Colab Notebooks/BigData분석기사CSV파일/HR-Employee-Attrition.csv\")\n",
        "\n",
        "# print(df[\"Attrition\"]) # Yes => 1, No => 0\n",
        "from sklearn.preprocessing import LabelEncoder\n",
        "encoder = LabelEncoder()\n",
        "df[\"Attrition\"] = encoder.fit_transform(df[\"Attrition\"])\n",
        "print(len(df[df[\"Attrition\"]==0]))\n",
        "print(len(df[df[\"Attrition\"]==1]))\n",
        "\n",
        "# 1번문제 답 : No(0) -> 1233, Yes(1) -> 237\n",
        "# print(df.nunique().sort_values) # 1인 값은 over18뿐\n",
        "# 2번문제 답 : df.drop(\"Over18\", axis=1, inplace=True)\n",
        "\n",
        "\n",
        "import numpy as np\n",
        "# print(df.columns)\n",
        "intList = []\n",
        "for i in df.columns:\n",
        "  if type(df[i][0]) == np.int64:\n",
        "    intList.append(i)\n",
        "df_copy = df[intList]\n",
        "# print(df_copy.info())\n",
        "corr = df_copy.corr(method='pearson')\n",
        "for i in intList:\n",
        "  for j in intList:\n",
        "    if corr.loc[i][j] > 0.9 and i != j:\n",
        "      print(i,j)\n",
        "# 3번문제 답 : JobLevel, MonthlyIncome 의 상관관계가 0.9가 넘으므로 둘중 하나는 제거해준다."
      ],
      "metadata": {
        "colab": {
          "base_uri": "https://localhost:8080/"
        },
        "id": "iE5sWS0QrgYR",
        "outputId": "210d94b4-bbe5-407d-e2d5-4a623ee636e4"
      },
      "execution_count": null,
      "outputs": [
        {
          "output_type": "stream",
          "name": "stdout",
          "text": [
            "1233\n",
            "237\n",
            "JobLevel MonthlyIncome\n",
            "MonthlyIncome JobLevel\n"
          ]
        }
      ]
    },
    {
      "cell_type": "markdown",
      "source": [
        "## 2유형\n",
        "데이터셋 : Parkinsons.csv\n",
        "환자들의 뇌를 촬영한 사진의 상태를 기록한 자료에 각 환자의 상태를 status로 추가한 테이블이다.  \n",
        " - 데이터셋을 이용하여 파킨슨병을 예측하는 모델을 로지스틱 회귀모형을 적용하여 생성하고, 이때 파킨슨병을 예측하는데 영향을 미치는 변수를 중요한 순서대로 3개 선정하시오.  \n",
        " 이 모델에서 파킨슨병으로 진단하는 기준(threshold, cutoff)을 0.5로 했을때와 0.8로 했을대 F1-스코어를 비교하고 해석하시오.  \n",
        "\n",
        "분석조건  \n",
        "1. 필요없는 칼럼인 'name' 제거 O\n",
        "2. 데이터 정규화는 min-max스케일러 사용 O\n",
        "3. status는 카테고리 타입으로 변환\n",
        "4. 트레이닝 셋과 테스트셋의 비율은 9:1\n",
        "5. 모델의 최적화 방법론으로 \"bfgs\" 사용"
      ],
      "metadata": {
        "id": "jNAQFHZlrgo7"
      }
    },
    {
      "cell_type": "code",
      "source": [
        "import pandas as pd\n",
        "df = pd.read_csv(\"/content/drive/MyDrive/Colab Notebooks/BigData분석기사CSV파일/Parkinsons.csv\")\n",
        "\n",
        "# print(df.head())\n",
        "\n",
        "df.drop(\"name\",axis=1,inplace=True)\n",
        "from sklearn.preprocessing import MinMaxScaler\n",
        "scaler = MinMaxScaler()\n",
        "X = df.drop(\"status\", axis = 1)\n",
        "y = df[\"status\"]\n",
        "df_columns = X.columns\n",
        "df = scaler.fit_transform(X)\n",
        "df = pd.DataFrame(df, columns = df_columns)\n",
        "\n",
        "y = y.astype('category')\n",
        "\n",
        "from sklearn.model_selection import train_test_split\n",
        "X_train, X_test, y_train,y_test = train_test_split(X,y,test_size=0.1, random_state=11)\n",
        "\n",
        "import statsmodels.api as sm\n",
        "\n",
        "model = sm.Logit(y_train, X_train)\n",
        "results = model.fit(method='bfgs', maxiter=1000)\n",
        "results.summary()"
      ],
      "metadata": {
        "colab": {
          "base_uri": "https://localhost:8080/",
          "height": 855
        },
        "id": "jcaYWNlxsqu3",
        "outputId": "3c8fd65e-937c-428e-eb12-1d7ab26788db"
      },
      "execution_count": null,
      "outputs": [
        {
          "output_type": "stream",
          "name": "stdout",
          "text": [
            "Optimization terminated successfully.\n",
            "         Current function value: 0.220729\n",
            "         Iterations: 288\n",
            "         Function evaluations: 294\n",
            "         Gradient evaluations: 294\n"
          ]
        },
        {
          "output_type": "execute_result",
          "data": {
            "text/plain": [
              "<class 'statsmodels.iolib.summary.Summary'>\n",
              "\"\"\"\n",
              "                           Logit Regression Results                           \n",
              "==============================================================================\n",
              "Dep. Variable:                 status   No. Observations:                  175\n",
              "Model:                          Logit   Df Residuals:                      153\n",
              "Method:                           MLE   Df Model:                           21\n",
              "Date:                Thu, 30 Nov 2023   Pseudo R-squ.:                  0.5995\n",
              "Time:                        06:52:25   Log-Likelihood:                -38.628\n",
              "converged:                       True   LL-Null:                       -96.439\n",
              "Covariance Type:            nonrobust   LLR p-value:                 4.507e-15\n",
              "====================================================================================\n",
              "                       coef    std err          z      P>|z|      [0.025      0.975]\n",
              "------------------------------------------------------------------------------------\n",
              "MDVP:Fo(Hz)          0.0047      0.021      0.223      0.824      -0.037       0.046\n",
              "MDVP:Fhi(Hz)        -0.0027      0.006     -0.485      0.627      -0.014       0.008\n",
              "MDVP:Flo(Hz)        -0.0067      0.011     -0.589      0.556      -0.029       0.016\n",
              "MDVP:Jitter(%)   -2252.0277   1367.884     -1.646      0.100   -4933.030     428.975\n",
              "MDVP:Jitter(Abs)   -23.2665    9.5e+04     -0.000      1.000   -1.86e+05    1.86e+05\n",
              "MDVP:RAP           387.8800   1.49e+05      0.003      0.998   -2.91e+05    2.92e+05\n",
              "MDVP:PPQ         -1390.3931   1996.542     -0.696      0.486   -5303.543    2522.757\n",
              "Jitter:DDP        1170.0066   4.97e+04      0.024      0.981   -9.62e+04    9.86e+04\n",
              "MDVP:Shimmer       805.7570   1162.112      0.693      0.488   -1471.940    3083.454\n",
              "MDVP:Shimmer(dB)    26.7167     34.235      0.780      0.435     -40.383      93.816\n",
              "Shimmer:APQ3      -119.9525   1.22e+05     -0.001      0.999   -2.39e+05    2.39e+05\n",
              "Shimmer:APQ5      -531.0545    501.518     -1.059      0.290   -1514.012     451.904\n",
              "MDVP:APQ           109.3672    457.855      0.239      0.811    -788.012    1006.747\n",
              "Shimmer:DDA       -361.3690   4.07e+04     -0.009      0.993   -8.02e+04    7.94e+04\n",
              "NHR                 -8.6706     43.194     -0.201      0.841     -93.329      75.988\n",
              "HNR                 -0.0731      0.203     -0.359      0.719      -0.472       0.326\n",
              "RPDE                -6.5908      4.598     -1.433      0.152     -15.603       2.422\n",
              "DFA                 11.4958      8.580      1.340      0.180      -5.320      28.311\n",
              "spread1              1.0912      1.188      0.919      0.358      -1.236       3.419\n",
              "spread2             12.9357      7.163      1.806      0.071      -1.104      26.975\n",
              "D2                  -0.2367      1.386     -0.171      0.864      -2.954       2.481\n",
              "PPE                 23.6605     18.184      1.301      0.193     -11.980      59.301\n",
              "====================================================================================\n",
              "\n",
              "Possibly complete quasi-separation: A fraction 0.11 of observations can be\n",
              "perfectly predicted. This might indicate that there is complete\n",
              "quasi-separation. In this case some parameters will not be identified.\n",
              "\"\"\""
            ],
            "text/html": [
              "<table class=\"simpletable\">\n",
              "<caption>Logit Regression Results</caption>\n",
              "<tr>\n",
              "  <th>Dep. Variable:</th>        <td>status</td>      <th>  No. Observations:  </th>  <td>   175</td>  \n",
              "</tr>\n",
              "<tr>\n",
              "  <th>Model:</th>                 <td>Logit</td>      <th>  Df Residuals:      </th>  <td>   153</td>  \n",
              "</tr>\n",
              "<tr>\n",
              "  <th>Method:</th>                 <td>MLE</td>       <th>  Df Model:          </th>  <td>    21</td>  \n",
              "</tr>\n",
              "<tr>\n",
              "  <th>Date:</th>            <td>Thu, 30 Nov 2023</td> <th>  Pseudo R-squ.:     </th>  <td>0.5995</td>  \n",
              "</tr>\n",
              "<tr>\n",
              "  <th>Time:</th>                <td>06:52:25</td>     <th>  Log-Likelihood:    </th> <td> -38.628</td> \n",
              "</tr>\n",
              "<tr>\n",
              "  <th>converged:</th>             <td>True</td>       <th>  LL-Null:           </th> <td> -96.439</td> \n",
              "</tr>\n",
              "<tr>\n",
              "  <th>Covariance Type:</th>     <td>nonrobust</td>    <th>  LLR p-value:       </th> <td>4.507e-15</td>\n",
              "</tr>\n",
              "</table>\n",
              "<table class=\"simpletable\">\n",
              "<tr>\n",
              "          <td></td>            <th>coef</th>     <th>std err</th>      <th>z</th>      <th>P>|z|</th>  <th>[0.025</th>    <th>0.975]</th>  \n",
              "</tr>\n",
              "<tr>\n",
              "  <th>MDVP:Fo(Hz)</th>      <td>    0.0047</td> <td>    0.021</td> <td>    0.223</td> <td> 0.824</td> <td>   -0.037</td> <td>    0.046</td>\n",
              "</tr>\n",
              "<tr>\n",
              "  <th>MDVP:Fhi(Hz)</th>     <td>   -0.0027</td> <td>    0.006</td> <td>   -0.485</td> <td> 0.627</td> <td>   -0.014</td> <td>    0.008</td>\n",
              "</tr>\n",
              "<tr>\n",
              "  <th>MDVP:Flo(Hz)</th>     <td>   -0.0067</td> <td>    0.011</td> <td>   -0.589</td> <td> 0.556</td> <td>   -0.029</td> <td>    0.016</td>\n",
              "</tr>\n",
              "<tr>\n",
              "  <th>MDVP:Jitter(%)</th>   <td>-2252.0277</td> <td> 1367.884</td> <td>   -1.646</td> <td> 0.100</td> <td>-4933.030</td> <td>  428.975</td>\n",
              "</tr>\n",
              "<tr>\n",
              "  <th>MDVP:Jitter(Abs)</th> <td>  -23.2665</td> <td>  9.5e+04</td> <td>   -0.000</td> <td> 1.000</td> <td>-1.86e+05</td> <td> 1.86e+05</td>\n",
              "</tr>\n",
              "<tr>\n",
              "  <th>MDVP:RAP</th>         <td>  387.8800</td> <td> 1.49e+05</td> <td>    0.003</td> <td> 0.998</td> <td>-2.91e+05</td> <td> 2.92e+05</td>\n",
              "</tr>\n",
              "<tr>\n",
              "  <th>MDVP:PPQ</th>         <td>-1390.3931</td> <td> 1996.542</td> <td>   -0.696</td> <td> 0.486</td> <td>-5303.543</td> <td> 2522.757</td>\n",
              "</tr>\n",
              "<tr>\n",
              "  <th>Jitter:DDP</th>       <td> 1170.0066</td> <td> 4.97e+04</td> <td>    0.024</td> <td> 0.981</td> <td>-9.62e+04</td> <td> 9.86e+04</td>\n",
              "</tr>\n",
              "<tr>\n",
              "  <th>MDVP:Shimmer</th>     <td>  805.7570</td> <td> 1162.112</td> <td>    0.693</td> <td> 0.488</td> <td>-1471.940</td> <td> 3083.454</td>\n",
              "</tr>\n",
              "<tr>\n",
              "  <th>MDVP:Shimmer(dB)</th> <td>   26.7167</td> <td>   34.235</td> <td>    0.780</td> <td> 0.435</td> <td>  -40.383</td> <td>   93.816</td>\n",
              "</tr>\n",
              "<tr>\n",
              "  <th>Shimmer:APQ3</th>     <td> -119.9525</td> <td> 1.22e+05</td> <td>   -0.001</td> <td> 0.999</td> <td>-2.39e+05</td> <td> 2.39e+05</td>\n",
              "</tr>\n",
              "<tr>\n",
              "  <th>Shimmer:APQ5</th>     <td> -531.0545</td> <td>  501.518</td> <td>   -1.059</td> <td> 0.290</td> <td>-1514.012</td> <td>  451.904</td>\n",
              "</tr>\n",
              "<tr>\n",
              "  <th>MDVP:APQ</th>         <td>  109.3672</td> <td>  457.855</td> <td>    0.239</td> <td> 0.811</td> <td> -788.012</td> <td> 1006.747</td>\n",
              "</tr>\n",
              "<tr>\n",
              "  <th>Shimmer:DDA</th>      <td> -361.3690</td> <td> 4.07e+04</td> <td>   -0.009</td> <td> 0.993</td> <td>-8.02e+04</td> <td> 7.94e+04</td>\n",
              "</tr>\n",
              "<tr>\n",
              "  <th>NHR</th>              <td>   -8.6706</td> <td>   43.194</td> <td>   -0.201</td> <td> 0.841</td> <td>  -93.329</td> <td>   75.988</td>\n",
              "</tr>\n",
              "<tr>\n",
              "  <th>HNR</th>              <td>   -0.0731</td> <td>    0.203</td> <td>   -0.359</td> <td> 0.719</td> <td>   -0.472</td> <td>    0.326</td>\n",
              "</tr>\n",
              "<tr>\n",
              "  <th>RPDE</th>             <td>   -6.5908</td> <td>    4.598</td> <td>   -1.433</td> <td> 0.152</td> <td>  -15.603</td> <td>    2.422</td>\n",
              "</tr>\n",
              "<tr>\n",
              "  <th>DFA</th>              <td>   11.4958</td> <td>    8.580</td> <td>    1.340</td> <td> 0.180</td> <td>   -5.320</td> <td>   28.311</td>\n",
              "</tr>\n",
              "<tr>\n",
              "  <th>spread1</th>          <td>    1.0912</td> <td>    1.188</td> <td>    0.919</td> <td> 0.358</td> <td>   -1.236</td> <td>    3.419</td>\n",
              "</tr>\n",
              "<tr>\n",
              "  <th>spread2</th>          <td>   12.9357</td> <td>    7.163</td> <td>    1.806</td> <td> 0.071</td> <td>   -1.104</td> <td>   26.975</td>\n",
              "</tr>\n",
              "<tr>\n",
              "  <th>D2</th>               <td>   -0.2367</td> <td>    1.386</td> <td>   -0.171</td> <td> 0.864</td> <td>   -2.954</td> <td>    2.481</td>\n",
              "</tr>\n",
              "<tr>\n",
              "  <th>PPE</th>              <td>   23.6605</td> <td>   18.184</td> <td>    1.301</td> <td> 0.193</td> <td>  -11.980</td> <td>   59.301</td>\n",
              "</tr>\n",
              "</table><br/><br/>Possibly complete quasi-separation: A fraction 0.11 of observations can be<br/>perfectly predicted. This might indicate that there is complete<br/>quasi-separation. In this case some parameters will not be identified."
            ],
            "text/latex": "\\begin{center}\n\\begin{tabular}{lclc}\n\\toprule\n\\textbf{Dep. Variable:}   &      status      & \\textbf{  No. Observations:  } &      175    \\\\\n\\textbf{Model:}           &      Logit       & \\textbf{  Df Residuals:      } &      153    \\\\\n\\textbf{Method:}          &       MLE        & \\textbf{  Df Model:          } &       21    \\\\\n\\textbf{Date:}            & Thu, 30 Nov 2023 & \\textbf{  Pseudo R-squ.:     } &   0.5995    \\\\\n\\textbf{Time:}            &     06:52:25     & \\textbf{  Log-Likelihood:    } &   -38.628   \\\\\n\\textbf{converged:}       &       True       & \\textbf{  LL-Null:           } &   -96.439   \\\\\n\\textbf{Covariance Type:} &    nonrobust     & \\textbf{  LLR p-value:       } & 4.507e-15   \\\\\n\\bottomrule\n\\end{tabular}\n\\begin{tabular}{lcccccc}\n                          & \\textbf{coef} & \\textbf{std err} & \\textbf{z} & \\textbf{P$> |$z$|$} & \\textbf{[0.025} & \\textbf{0.975]}  \\\\\n\\midrule\n\\textbf{MDVP:Fo(Hz)}      &       0.0047  &        0.021     &     0.223  &         0.824        &       -0.037    &        0.046     \\\\\n\\textbf{MDVP:Fhi(Hz)}     &      -0.0027  &        0.006     &    -0.485  &         0.627        &       -0.014    &        0.008     \\\\\n\\textbf{MDVP:Flo(Hz)}     &      -0.0067  &        0.011     &    -0.589  &         0.556        &       -0.029    &        0.016     \\\\\n\\textbf{MDVP:Jitter(\\%)}  &   -2252.0277  &     1367.884     &    -1.646  &         0.100        &    -4933.030    &      428.975     \\\\\n\\textbf{MDVP:Jitter(Abs)} &     -23.2665  &      9.5e+04     &    -0.000  &         1.000        &    -1.86e+05    &     1.86e+05     \\\\\n\\textbf{MDVP:RAP}         &     387.8800  &     1.49e+05     &     0.003  &         0.998        &    -2.91e+05    &     2.92e+05     \\\\\n\\textbf{MDVP:PPQ}         &   -1390.3931  &     1996.542     &    -0.696  &         0.486        &    -5303.543    &     2522.757     \\\\\n\\textbf{Jitter:DDP}       &    1170.0066  &     4.97e+04     &     0.024  &         0.981        &    -9.62e+04    &     9.86e+04     \\\\\n\\textbf{MDVP:Shimmer}     &     805.7570  &     1162.112     &     0.693  &         0.488        &    -1471.940    &     3083.454     \\\\\n\\textbf{MDVP:Shimmer(dB)} &      26.7167  &       34.235     &     0.780  &         0.435        &      -40.383    &       93.816     \\\\\n\\textbf{Shimmer:APQ3}     &    -119.9525  &     1.22e+05     &    -0.001  &         0.999        &    -2.39e+05    &     2.39e+05     \\\\\n\\textbf{Shimmer:APQ5}     &    -531.0545  &      501.518     &    -1.059  &         0.290        &    -1514.012    &      451.904     \\\\\n\\textbf{MDVP:APQ}         &     109.3672  &      457.855     &     0.239  &         0.811        &     -788.012    &     1006.747     \\\\\n\\textbf{Shimmer:DDA}      &    -361.3690  &     4.07e+04     &    -0.009  &         0.993        &    -8.02e+04    &     7.94e+04     \\\\\n\\textbf{NHR}              &      -8.6706  &       43.194     &    -0.201  &         0.841        &      -93.329    &       75.988     \\\\\n\\textbf{HNR}              &      -0.0731  &        0.203     &    -0.359  &         0.719        &       -0.472    &        0.326     \\\\\n\\textbf{RPDE}             &      -6.5908  &        4.598     &    -1.433  &         0.152        &      -15.603    &        2.422     \\\\\n\\textbf{DFA}              &      11.4958  &        8.580     &     1.340  &         0.180        &       -5.320    &       28.311     \\\\\n\\textbf{spread1}          &       1.0912  &        1.188     &     0.919  &         0.358        &       -1.236    &        3.419     \\\\\n\\textbf{spread2}          &      12.9357  &        7.163     &     1.806  &         0.071        &       -1.104    &       26.975     \\\\\n\\textbf{D2}               &      -0.2367  &        1.386     &    -0.171  &         0.864        &       -2.954    &        2.481     \\\\\n\\textbf{PPE}              &      23.6605  &       18.184     &     1.301  &         0.193        &      -11.980    &       59.301     \\\\\n\\bottomrule\n\\end{tabular}\n%\\caption{Logit Regression Results}\n\\end{center}\n\nPossibly complete quasi-separation: A fraction 0.11 of observations can be \\newline\n perfectly predicted. This might indicate that there is complete \\newline\n quasi-separation. In this case some parameters will not be identified."
          },
          "metadata": {},
          "execution_count": 23
        }
      ]
    },
    {
      "cell_type": "markdown",
      "source": [
        "## 3유형\n",
        "(data/Titanic.csv)는 타이타닉호의 침몰 사건에서 생존한 승객 및 사망한 승객의 정보를 포함한  자료이다. 아래 데이터를 이용하여 생존 여부(Survived)를 예측하고자 한다.  \n",
        "\n",
        "- ①. Gender와 Survived 변수 간의 독립성 검정을 실시하였을 때, 카이제곱 통계량은?  \n",
        "- ②. Gender, SibSp, Parch, Fare를 독립변수로 사용하여 로지스틱 회귀모형을 실시하였을 때, Parch 변수의 계수값은?   \n",
        "- ③. 위 ②번 문제에서 추정된 로지스틱 회귀모형에서 SibSp 변수가 한 단위 증가할 때 생존할 오즈비(Odds ratio) 값은?"
      ],
      "metadata": {
        "id": "iHgH3wAesurf"
      }
    },
    {
      "cell_type": "code",
      "source": [
        "import pandas as pd\n",
        "df = pd.read_csv(\"/content/drive/MyDrive/Colab Notebooks/BigData분석기사CSV파일/titanic.csv\")\n",
        "# df.head()\n",
        "crossTable = pd.crosstab(df[\"Sex\"], df[\"Survived\"])\n",
        "from scipy.stats import chi2_contingency\n",
        "\n",
        "stats = chi2_contingency(crossTable)[0]\n",
        "print(stats)\n",
        "# 1번 문제 정답 : 206.71\n",
        "import statsmodels.api as sm\n",
        "from sklearn.preprocessing import LabelEncoder\n",
        "import numpy as np\n",
        "\n",
        "encoder = LabelEncoder()\n",
        "df[\"Sex\"] = encoder.fit_transform(df[[\"Sex\"]])\n",
        "\n",
        "X = df[[\"Sex\",\"SibSp\", \"Parch\", \"Fare\"]]\n",
        "y = df[\"Survived\"]\n",
        "X = sm.add_constant(X)\n",
        "model = sm.Logit(y,X)\n",
        "results = model.fit()\n",
        "print(results.summary())\n",
        "# 2번 문제 정답 : -0.2\n",
        "\n",
        "sibsp_coefficient = results.params[\"SibSp\"]\n",
        "odds_ratio_sibsp = round(np.exp(sibsp_coefficient),3)\n",
        "print(odds_ratio_sibsp)\n"
      ],
      "metadata": {
        "id": "Ua5IXshptkqa",
        "colab": {
          "base_uri": "https://localhost:8080/"
        },
        "outputId": "28c5e984-809d-403d-cfbe-34d5e35e24e1"
      },
      "execution_count": null,
      "outputs": [
        {
          "output_type": "stream",
          "name": "stdout",
          "text": [
            "260.71702016732104\n",
            "Optimization terminated successfully.\n",
            "         Current function value: 0.482065\n",
            "         Iterations 6\n",
            "                           Logit Regression Results                           \n",
            "==============================================================================\n",
            "Dep. Variable:               Survived   No. Observations:                  891\n",
            "Model:                          Logit   Df Residuals:                      886\n",
            "Method:                           MLE   Df Model:                            4\n",
            "Date:                Thu, 30 Nov 2023   Pseudo R-squ.:                  0.2761\n",
            "Time:                        13:47:19   Log-Likelihood:                -429.52\n",
            "converged:                       True   LL-Null:                       -593.33\n",
            "Covariance Type:            nonrobust   LLR p-value:                 1.192e-69\n",
            "==============================================================================\n",
            "                 coef    std err          z      P>|z|      [0.025      0.975]\n",
            "------------------------------------------------------------------------------\n",
            "const          0.9466      0.169      5.590      0.000       0.615       1.279\n",
            "Sex           -2.6422      0.186    -14.197      0.000      -3.007      -2.277\n",
            "SibSp         -0.3539      0.098     -3.604      0.000      -0.546      -0.161\n",
            "Parch         -0.2007      0.112     -1.792      0.073      -0.420       0.019\n",
            "Fare           0.0147      0.003      5.553      0.000       0.010       0.020\n",
            "==============================================================================\n",
            "0.702\n"
          ]
        },
        {
          "output_type": "stream",
          "name": "stderr",
          "text": [
            "/usr/local/lib/python3.10/dist-packages/sklearn/preprocessing/_label.py:116: DataConversionWarning: A column-vector y was passed when a 1d array was expected. Please change the shape of y to (n_samples, ), for example using ravel().\n",
            "  y = column_or_1d(y, warn=True)\n"
          ]
        }
      ]
    },
    {
      "cell_type": "markdown",
      "source": [
        "# 3회차\n",
        "## 작업 1유형\n",
        "- 1. 각 구급 보고서 별 출동시각과 신고시각의 차이를 ‘소요시간’ 컬럼을 만들고 초(sec)단위로 구하고 소방서명 별 소요시간의 평균을 오름차순으로 정렬 했을때 3번째로 작은 소요시간의 값과 소방서명을 출력하라\n",
        "\n",
        "- 2. 학교 세부유형이 일반중학교인 학교들 중 일반중학교 숫자가 2번째로 많은 시도의 일반중학교 데이터만 필터하여 해당 시도의 교원 한명 당 맡은 학생수가 가장 많은 학교를 찾아서 해당 학교의 교원수를 출력하라\n",
        "- 3. 5대 범죄(절도, 사기, 배임, 방화, 폭행)의 월별 총 발생건수를 총범죄수라고 표현하자. 18,19년의 각각 분기별 총범죄수의 월평균 값을 구했을때 최대값을 가지는 년도와 분기를 구하고 해당 분기의 최댓값의 사기가 발생한 월의 사기 발생건수를 출력하라(1분기:1,2,3월 / 2분기 : 4,5,6월 / 3분기 7,8,9월 / 4분기 10,11,12월 , 1분기 월평균 : 1,2,3월의 총범죄수 평균)"
      ],
      "metadata": {
        "id": "tNewSyXAgWCz"
      }
    },
    {
      "cell_type": "code",
      "source": [
        "# 1번문제\n",
        "import pandas as pd\n",
        "df = pd.read_csv('https://raw.githubusercontent.com/Datamanim/datarepo/main/krdatacertificate/e6_p1_1.csv')\n",
        "# print(df.head())\n",
        "\n",
        "'''\n",
        "    구급보고서번호   소방서명     환자증상구분명1      신고일자    신고시각      출동일자    출동시각  \\\n",
        "0  20211122103M01526  중랑소방서     심계항진         20210330    104800        20210330    105042\n",
        "1  20211111105M00771  노원소방서       복통           20210412    225600        20210412    225827\n",
        "2  20211115104M00864  서초소방서     심계항진         20210303    194100        20210303    194500\n",
        "3  20211113107M01869  마포소방서       고열           20211225    235400        20211226      331\n",
        "4  20211118102M05820  강동소방서       고열           20211019    12100         20211019    12322\n",
        "\n",
        "  환자직업명 사고발생장소\n",
        "0    무직      집\n",
        "1    기타      집\n",
        "2   직장인   상업시설\n",
        "3    유아      집\n",
        "4    무직      집\n",
        "\n",
        "'''\n",
        "df[\"신고일자\"] = df[\"신고일자\"].astype('str').str.zfill(6)\n",
        "df[\"신고시각\"] = df[\"신고시각\"].astype('str').str.zfill(6)\n",
        "df[\"출동일자\"] = df[\"출동일자\"].astype('str').str.zfill(6)\n",
        "df[\"출동시각\"] = df[\"출동시각\"].astype('str').str.zfill(6)\n",
        "df[\"신고\"] = df[\"신고일자\"] + df[\"신고시각\"]\n",
        "df[\"출동\"] = df[\"출동일자\"] + df[\"출동시각\"]\n",
        "df[\"소요시간\"] = pd.to_datetime(df[\"출동\"]) - pd.to_datetime(df[\"신고\"])\n",
        "df_result = df.groupby(\"소방서명\").mean().sort_values(\"소요시간\")\n",
        "df_result[\"소요시간\"][2].seconds"
      ],
      "metadata": {
        "colab": {
          "base_uri": "https://localhost:8080/"
        },
        "id": "PmcEhOGSgkS9",
        "outputId": "a8816d81-a9cf-439c-9eb0-1f9d295ee9fe"
      },
      "execution_count": null,
      "outputs": [
        {
          "output_type": "stream",
          "name": "stderr",
          "text": [
            "<ipython-input-62-390c57fd96fe>:29: FutureWarning: The default value of numeric_only in DataFrameGroupBy.mean is deprecated. In a future version, numeric_only will default to False. Either specify numeric_only or select only columns which should be valid for the function.\n",
            "  df_result = df.groupby(\"소방서명\").mean().sort_values(\"소요시간\")\n"
          ]
        },
        {
          "output_type": "execute_result",
          "data": {
            "text/plain": [
              "175"
            ]
          },
          "metadata": {},
          "execution_count": 62
        }
      ]
    },
    {
      "cell_type": "code",
      "source": [
        "# 2번문제\n",
        "'''\n",
        "학교 세부유형이 일반중학교인 학교들 중 일반중학교 숫자가 2번째로 많은 시도의 일반중학교 데이터만 필터하여 해당 시도의 교원 한명 당 맡은 학생수가 가장 많은 학교를 찾아서 해당 학교의 교원수를 출력하라\n",
        "'''\n",
        "import pandas as pd\n",
        "df = pd.read_csv('https://raw.githubusercontent.com/Datamanim/datarepo/main/krdatacertificate/e6_p1_2.csv')\n",
        "\n",
        "for i in range(len(df)):\n",
        "  if df[\"학교세부유형\"][i] != \"일반중학교\" or df[\"시도\"][i] != \"서울\":\n",
        "    df.drop(i,axis=0, inplace=True)\n",
        "df[\"교원당학생\"] = df[\"일반학급_학생수_계\"] / df[\"교원수_총계_계\"]\n",
        "df.sort_values(\"교원당학생\",ascending=False)\n",
        "#ans =33\n",
        "\n",
        "'''\n",
        "풀이:\n",
        "city = df[df['학교세부유형'] =='일반중학교'].시도.value_counts().index[1]\n",
        "filter_df = df[(df['학교세부유형'] =='일반중학교') & (df['시도'] ==city)].reset_index(drop=True)\n",
        "filter_df.loc[:,'ratio'] = (filter_df['일반학급_학생수_계'] / filter_df['교원수_총계_계']).values\n",
        "filter_df = filter_df.sort_values('ratio').dropna()\n",
        "result= filter_df['교원수_총계_계'].values[-1]\n",
        "print(result)\n",
        "'''"
      ],
      "metadata": {
        "colab": {
          "base_uri": "https://localhost:8080/",
          "height": 424
        },
        "id": "J5C_IDGHqf5c",
        "outputId": "02b78d17-b23b-432f-b160-e8fe9abc53f3"
      },
      "execution_count": null,
      "outputs": [
        {
          "output_type": "execute_result",
          "data": {
            "text/plain": [
              "                학교명  시도 학교세부유형  일반학급_학생수_계  교원수_총계_계      교원당학생\n",
              "524  단국대학교사범대학부속중학교  서울  일반중학교         606        33  18.363636\n",
              "444           한영중학교  서울  일반중학교         742        43  17.255814\n",
              "532         진선여자중학교  서울  일반중학교         997        58  17.189655\n",
              "441           배재중학교  서울  일반중학교         868        51  17.019608\n",
              "526           휘문중학교  서울  일반중학교         814        48  16.958333\n",
              "..              ...  ..    ...         ...       ...        ...\n",
              "438           동북중학교  서울  일반중학교         233        43   5.418605\n",
              "256         정화여자중학교  서울  일반중학교         125        24   5.208333\n",
              "453           경서중학교  서울  일반중학교         112        26   4.307692\n",
              "386         금호여자중학교  서울  일반중학교          86        21   4.095238\n",
              "494           개포중학교  서울  일반중학교           0         0        NaN\n",
              "\n",
              "[387 rows x 6 columns]"
            ],
            "text/html": [
              "\n",
              "  <div id=\"df-d028e91e-149a-4b54-af65-0925aa4a2487\" class=\"colab-df-container\">\n",
              "    <div>\n",
              "<style scoped>\n",
              "    .dataframe tbody tr th:only-of-type {\n",
              "        vertical-align: middle;\n",
              "    }\n",
              "\n",
              "    .dataframe tbody tr th {\n",
              "        vertical-align: top;\n",
              "    }\n",
              "\n",
              "    .dataframe thead th {\n",
              "        text-align: right;\n",
              "    }\n",
              "</style>\n",
              "<table border=\"1\" class=\"dataframe\">\n",
              "  <thead>\n",
              "    <tr style=\"text-align: right;\">\n",
              "      <th></th>\n",
              "      <th>학교명</th>\n",
              "      <th>시도</th>\n",
              "      <th>학교세부유형</th>\n",
              "      <th>일반학급_학생수_계</th>\n",
              "      <th>교원수_총계_계</th>\n",
              "      <th>교원당학생</th>\n",
              "    </tr>\n",
              "  </thead>\n",
              "  <tbody>\n",
              "    <tr>\n",
              "      <th>524</th>\n",
              "      <td>단국대학교사범대학부속중학교</td>\n",
              "      <td>서울</td>\n",
              "      <td>일반중학교</td>\n",
              "      <td>606</td>\n",
              "      <td>33</td>\n",
              "      <td>18.363636</td>\n",
              "    </tr>\n",
              "    <tr>\n",
              "      <th>444</th>\n",
              "      <td>한영중학교</td>\n",
              "      <td>서울</td>\n",
              "      <td>일반중학교</td>\n",
              "      <td>742</td>\n",
              "      <td>43</td>\n",
              "      <td>17.255814</td>\n",
              "    </tr>\n",
              "    <tr>\n",
              "      <th>532</th>\n",
              "      <td>진선여자중학교</td>\n",
              "      <td>서울</td>\n",
              "      <td>일반중학교</td>\n",
              "      <td>997</td>\n",
              "      <td>58</td>\n",
              "      <td>17.189655</td>\n",
              "    </tr>\n",
              "    <tr>\n",
              "      <th>441</th>\n",
              "      <td>배재중학교</td>\n",
              "      <td>서울</td>\n",
              "      <td>일반중학교</td>\n",
              "      <td>868</td>\n",
              "      <td>51</td>\n",
              "      <td>17.019608</td>\n",
              "    </tr>\n",
              "    <tr>\n",
              "      <th>526</th>\n",
              "      <td>휘문중학교</td>\n",
              "      <td>서울</td>\n",
              "      <td>일반중학교</td>\n",
              "      <td>814</td>\n",
              "      <td>48</td>\n",
              "      <td>16.958333</td>\n",
              "    </tr>\n",
              "    <tr>\n",
              "      <th>...</th>\n",
              "      <td>...</td>\n",
              "      <td>...</td>\n",
              "      <td>...</td>\n",
              "      <td>...</td>\n",
              "      <td>...</td>\n",
              "      <td>...</td>\n",
              "    </tr>\n",
              "    <tr>\n",
              "      <th>438</th>\n",
              "      <td>동북중학교</td>\n",
              "      <td>서울</td>\n",
              "      <td>일반중학교</td>\n",
              "      <td>233</td>\n",
              "      <td>43</td>\n",
              "      <td>5.418605</td>\n",
              "    </tr>\n",
              "    <tr>\n",
              "      <th>256</th>\n",
              "      <td>정화여자중학교</td>\n",
              "      <td>서울</td>\n",
              "      <td>일반중학교</td>\n",
              "      <td>125</td>\n",
              "      <td>24</td>\n",
              "      <td>5.208333</td>\n",
              "    </tr>\n",
              "    <tr>\n",
              "      <th>453</th>\n",
              "      <td>경서중학교</td>\n",
              "      <td>서울</td>\n",
              "      <td>일반중학교</td>\n",
              "      <td>112</td>\n",
              "      <td>26</td>\n",
              "      <td>4.307692</td>\n",
              "    </tr>\n",
              "    <tr>\n",
              "      <th>386</th>\n",
              "      <td>금호여자중학교</td>\n",
              "      <td>서울</td>\n",
              "      <td>일반중학교</td>\n",
              "      <td>86</td>\n",
              "      <td>21</td>\n",
              "      <td>4.095238</td>\n",
              "    </tr>\n",
              "    <tr>\n",
              "      <th>494</th>\n",
              "      <td>개포중학교</td>\n",
              "      <td>서울</td>\n",
              "      <td>일반중학교</td>\n",
              "      <td>0</td>\n",
              "      <td>0</td>\n",
              "      <td>NaN</td>\n",
              "    </tr>\n",
              "  </tbody>\n",
              "</table>\n",
              "<p>387 rows × 6 columns</p>\n",
              "</div>\n",
              "    <div class=\"colab-df-buttons\">\n",
              "\n",
              "  <div class=\"colab-df-container\">\n",
              "    <button class=\"colab-df-convert\" onclick=\"convertToInteractive('df-d028e91e-149a-4b54-af65-0925aa4a2487')\"\n",
              "            title=\"Convert this dataframe to an interactive table.\"\n",
              "            style=\"display:none;\">\n",
              "\n",
              "  <svg xmlns=\"http://www.w3.org/2000/svg\" height=\"24px\" viewBox=\"0 -960 960 960\">\n",
              "    <path d=\"M120-120v-720h720v720H120Zm60-500h600v-160H180v160Zm220 220h160v-160H400v160Zm0 220h160v-160H400v160ZM180-400h160v-160H180v160Zm440 0h160v-160H620v160ZM180-180h160v-160H180v160Zm440 0h160v-160H620v160Z\"/>\n",
              "  </svg>\n",
              "    </button>\n",
              "\n",
              "  <style>\n",
              "    .colab-df-container {\n",
              "      display:flex;\n",
              "      gap: 12px;\n",
              "    }\n",
              "\n",
              "    .colab-df-convert {\n",
              "      background-color: #E8F0FE;\n",
              "      border: none;\n",
              "      border-radius: 50%;\n",
              "      cursor: pointer;\n",
              "      display: none;\n",
              "      fill: #1967D2;\n",
              "      height: 32px;\n",
              "      padding: 0 0 0 0;\n",
              "      width: 32px;\n",
              "    }\n",
              "\n",
              "    .colab-df-convert:hover {\n",
              "      background-color: #E2EBFA;\n",
              "      box-shadow: 0px 1px 2px rgba(60, 64, 67, 0.3), 0px 1px 3px 1px rgba(60, 64, 67, 0.15);\n",
              "      fill: #174EA6;\n",
              "    }\n",
              "\n",
              "    .colab-df-buttons div {\n",
              "      margin-bottom: 4px;\n",
              "    }\n",
              "\n",
              "    [theme=dark] .colab-df-convert {\n",
              "      background-color: #3B4455;\n",
              "      fill: #D2E3FC;\n",
              "    }\n",
              "\n",
              "    [theme=dark] .colab-df-convert:hover {\n",
              "      background-color: #434B5C;\n",
              "      box-shadow: 0px 1px 3px 1px rgba(0, 0, 0, 0.15);\n",
              "      filter: drop-shadow(0px 1px 2px rgba(0, 0, 0, 0.3));\n",
              "      fill: #FFFFFF;\n",
              "    }\n",
              "  </style>\n",
              "\n",
              "    <script>\n",
              "      const buttonEl =\n",
              "        document.querySelector('#df-d028e91e-149a-4b54-af65-0925aa4a2487 button.colab-df-convert');\n",
              "      buttonEl.style.display =\n",
              "        google.colab.kernel.accessAllowed ? 'block' : 'none';\n",
              "\n",
              "      async function convertToInteractive(key) {\n",
              "        const element = document.querySelector('#df-d028e91e-149a-4b54-af65-0925aa4a2487');\n",
              "        const dataTable =\n",
              "          await google.colab.kernel.invokeFunction('convertToInteractive',\n",
              "                                                    [key], {});\n",
              "        if (!dataTable) return;\n",
              "\n",
              "        const docLinkHtml = 'Like what you see? Visit the ' +\n",
              "          '<a target=\"_blank\" href=https://colab.research.google.com/notebooks/data_table.ipynb>data table notebook</a>'\n",
              "          + ' to learn more about interactive tables.';\n",
              "        element.innerHTML = '';\n",
              "        dataTable['output_type'] = 'display_data';\n",
              "        await google.colab.output.renderOutput(dataTable, element);\n",
              "        const docLink = document.createElement('div');\n",
              "        docLink.innerHTML = docLinkHtml;\n",
              "        element.appendChild(docLink);\n",
              "      }\n",
              "    </script>\n",
              "  </div>\n",
              "\n",
              "\n",
              "<div id=\"df-f0dc3691-630c-4db9-af0b-c590eadc2f99\">\n",
              "  <button class=\"colab-df-quickchart\" onclick=\"quickchart('df-f0dc3691-630c-4db9-af0b-c590eadc2f99')\"\n",
              "            title=\"Suggest charts\"\n",
              "            style=\"display:none;\">\n",
              "\n",
              "<svg xmlns=\"http://www.w3.org/2000/svg\" height=\"24px\"viewBox=\"0 0 24 24\"\n",
              "     width=\"24px\">\n",
              "    <g>\n",
              "        <path d=\"M19 3H5c-1.1 0-2 .9-2 2v14c0 1.1.9 2 2 2h14c1.1 0 2-.9 2-2V5c0-1.1-.9-2-2-2zM9 17H7v-7h2v7zm4 0h-2V7h2v10zm4 0h-2v-4h2v4z\"/>\n",
              "    </g>\n",
              "</svg>\n",
              "  </button>\n",
              "\n",
              "<style>\n",
              "  .colab-df-quickchart {\n",
              "      --bg-color: #E8F0FE;\n",
              "      --fill-color: #1967D2;\n",
              "      --hover-bg-color: #E2EBFA;\n",
              "      --hover-fill-color: #174EA6;\n",
              "      --disabled-fill-color: #AAA;\n",
              "      --disabled-bg-color: #DDD;\n",
              "  }\n",
              "\n",
              "  [theme=dark] .colab-df-quickchart {\n",
              "      --bg-color: #3B4455;\n",
              "      --fill-color: #D2E3FC;\n",
              "      --hover-bg-color: #434B5C;\n",
              "      --hover-fill-color: #FFFFFF;\n",
              "      --disabled-bg-color: #3B4455;\n",
              "      --disabled-fill-color: #666;\n",
              "  }\n",
              "\n",
              "  .colab-df-quickchart {\n",
              "    background-color: var(--bg-color);\n",
              "    border: none;\n",
              "    border-radius: 50%;\n",
              "    cursor: pointer;\n",
              "    display: none;\n",
              "    fill: var(--fill-color);\n",
              "    height: 32px;\n",
              "    padding: 0;\n",
              "    width: 32px;\n",
              "  }\n",
              "\n",
              "  .colab-df-quickchart:hover {\n",
              "    background-color: var(--hover-bg-color);\n",
              "    box-shadow: 0 1px 2px rgba(60, 64, 67, 0.3), 0 1px 3px 1px rgba(60, 64, 67, 0.15);\n",
              "    fill: var(--button-hover-fill-color);\n",
              "  }\n",
              "\n",
              "  .colab-df-quickchart-complete:disabled,\n",
              "  .colab-df-quickchart-complete:disabled:hover {\n",
              "    background-color: var(--disabled-bg-color);\n",
              "    fill: var(--disabled-fill-color);\n",
              "    box-shadow: none;\n",
              "  }\n",
              "\n",
              "  .colab-df-spinner {\n",
              "    border: 2px solid var(--fill-color);\n",
              "    border-color: transparent;\n",
              "    border-bottom-color: var(--fill-color);\n",
              "    animation:\n",
              "      spin 1s steps(1) infinite;\n",
              "  }\n",
              "\n",
              "  @keyframes spin {\n",
              "    0% {\n",
              "      border-color: transparent;\n",
              "      border-bottom-color: var(--fill-color);\n",
              "      border-left-color: var(--fill-color);\n",
              "    }\n",
              "    20% {\n",
              "      border-color: transparent;\n",
              "      border-left-color: var(--fill-color);\n",
              "      border-top-color: var(--fill-color);\n",
              "    }\n",
              "    30% {\n",
              "      border-color: transparent;\n",
              "      border-left-color: var(--fill-color);\n",
              "      border-top-color: var(--fill-color);\n",
              "      border-right-color: var(--fill-color);\n",
              "    }\n",
              "    40% {\n",
              "      border-color: transparent;\n",
              "      border-right-color: var(--fill-color);\n",
              "      border-top-color: var(--fill-color);\n",
              "    }\n",
              "    60% {\n",
              "      border-color: transparent;\n",
              "      border-right-color: var(--fill-color);\n",
              "    }\n",
              "    80% {\n",
              "      border-color: transparent;\n",
              "      border-right-color: var(--fill-color);\n",
              "      border-bottom-color: var(--fill-color);\n",
              "    }\n",
              "    90% {\n",
              "      border-color: transparent;\n",
              "      border-bottom-color: var(--fill-color);\n",
              "    }\n",
              "  }\n",
              "</style>\n",
              "\n",
              "  <script>\n",
              "    async function quickchart(key) {\n",
              "      const quickchartButtonEl =\n",
              "        document.querySelector('#' + key + ' button');\n",
              "      quickchartButtonEl.disabled = true;  // To prevent multiple clicks.\n",
              "      quickchartButtonEl.classList.add('colab-df-spinner');\n",
              "      try {\n",
              "        const charts = await google.colab.kernel.invokeFunction(\n",
              "            'suggestCharts', [key], {});\n",
              "      } catch (error) {\n",
              "        console.error('Error during call to suggestCharts:', error);\n",
              "      }\n",
              "      quickchartButtonEl.classList.remove('colab-df-spinner');\n",
              "      quickchartButtonEl.classList.add('colab-df-quickchart-complete');\n",
              "    }\n",
              "    (() => {\n",
              "      let quickchartButtonEl =\n",
              "        document.querySelector('#df-f0dc3691-630c-4db9-af0b-c590eadc2f99 button');\n",
              "      quickchartButtonEl.style.display =\n",
              "        google.colab.kernel.accessAllowed ? 'block' : 'none';\n",
              "    })();\n",
              "  </script>\n",
              "</div>\n",
              "    </div>\n",
              "  </div>\n"
            ]
          },
          "metadata": {},
          "execution_count": 88
        }
      ]
    },
    {
      "cell_type": "code",
      "source": [
        "# 3번 문제\n",
        "'''\n",
        "5대 범죄(절도, 사기, 배임, 방화, 폭행)의 월별 총 발생건수를 총범죄수라고 표현하자. //\n",
        "18,19년의 각각 분기별 총범죄수의 월평균 값을 구했을때 최대값을 가지는 년도와 분기를 구하고 해당 분기의 최댓값의 사기가 발생한 월의 사기 발생건수를 출력하라\n",
        "(1분기:1,2,3월 / 2분기 : 4,5,6월 / 3분기 7,8,9월 / 4분기 10,11,12월 , 1분기 월평균 : 1,2,3월의 총범죄수 평균)\n",
        "'''\n",
        "import pandas as pd\n",
        "df = pd.read_csv('https://raw.githubusercontent.com/Datamanim/datarepo/main/krdatacertificate/e6_p1_3.csv')\n",
        "df[\"총범죄수\"] = df[\"절도\"] + df[\"사기\"] + df[\"배임\"] + df[\"방화\"] + df[\"폭행\"]\n",
        "lst = []\n",
        "crime = 0\n",
        "for i in range(len(df)):\n",
        "  if (i+1) % 3 != 0:\n",
        "    crime += df[\"총범죄수\"][i]\n",
        "  else :\n",
        "    lst.append(crime)\n",
        "    crime = 0\n",
        "print(lst)\n",
        "# 19년 456\n",
        "print(df.loc[df[\"범죄분류\"] == \"2019년_4월\"], df.loc[df[\"범죄분류\"] == \"2019년_5월\"],df.loc[df[\"범죄분류\"] == \"2019년_6월\"])\n",
        "# ans 27766"
      ],
      "metadata": {
        "colab": {
          "base_uri": "https://localhost:8080/"
        },
        "id": "cdx0jGxUvved",
        "outputId": "8d49d258-3353-4806-89c5-7b4e84f2aab7"
      },
      "execution_count": null,
      "outputs": [
        {
          "output_type": "stream",
          "name": "stdout",
          "text": [
            "[95871, 106717, 112349, 101114, 101296, 116679, 118710, 110435]\n",
            "        범죄분류     절도     사기   배임   방화     폭행   총범죄수\n",
            "15  2019년_4월  15305  27125  478  138  13322  56368         범죄분류     절도     사기   배임   방화     폭행   총범죄수\n",
            "16  2019년_5월  17333  27766  509  131  14572  60311         범죄분류     절도     사기   배임   방화     폭행   총범죄수\n",
            "17  2019년_6월  16937  25822  491  101  15285  58636\n"
          ]
        }
      ]
    },
    {
      "cell_type": "markdown",
      "source": [
        "## 2유형\n",
        "\n",
        "건강 상태 분류문제 : https://www.kaggle.com/datasets/alphiree/cardiovascular-diseases-risk-prediction-dataset train = https://raw.githubusercontent.com/Datamanim/datarepo/main/krdatacertificate/ep6_p2_train.csv test = https://raw.githubusercontent.com/Datamanim/datarepo/main/krdatacertificate/ep6_p2_test.csv\n",
        "\n",
        "예측 변수 General_Health, test.csv에 대해 ID별로 General_Health 값을 예측하여 제출, 제출 데이터 컬럼은 ID와 General_Health 두개만 존재해야함. 평가지표는 f1score"
      ],
      "metadata": {
        "id": "-UJ70Z2fyXb2"
      }
    },
    {
      "cell_type": "code",
      "source": [
        "import pandas as pd\n",
        "train = pd.read_csv('https://raw.githubusercontent.com/Datamanim/datarepo/main/krdatacertificate/ep6_p2_train.csv')\n",
        "test = pd.read_csv('https://raw.githubusercontent.com/Datamanim/datarepo/main/krdatacertificate/ep6_p2_test.csv')\n",
        "\n",
        "train.drop(\"ID\", axis=1,inplace=True)\n",
        "# display(train.head())\n",
        "\n",
        "df = pd.get_dummies(train, columns=[\"Checkup\",\"Exercise\",\"Heart_Disease\",\"Skin_Cancer\",\"Other_Cancer\",\"Depression\",\"Diabetes\",\"Arthritis\",\"Sex\",\"Age_Category\",\"Smoking_History\"])\n",
        "\n",
        "from sklearn.model_selection import cross_val_score\n",
        "from sklearn.preprocessing import minmax_scale\n",
        "\n",
        "X = df.drop(\"General_Health\",axis=1)\n",
        "# print(X.head())\n",
        "y = df[\"General_Health\"]\n",
        "\n",
        "X = minmax_scale(X)\n",
        "\n",
        "\n",
        "from sklearn.ensemble import RandomForestClassifier\n",
        "\n",
        "# print(help(RandomForestClassifier))\n",
        "model = RandomForestClassifier(max_depth = 6, n_estimators = 300, random_state=11)\n",
        "# model.fit(X,y)\n",
        "\n",
        "ID = test[\"ID\"]\n",
        "test = pd.get_dummies(test, columns=[\"Checkup\",\"Exercise\",\"Heart_Disease\",\"Skin_Cancer\",\"Other_Cancer\",\"Depression\",\"Diabetes\",\"Arthritis\",\"Sex\",\"Age_Category\",\"Smoking_History\"])\n",
        "test.drop(\"ID\",axis=1,inplace=True)\n",
        "\n",
        "from sklearn.model_selection import train_test_split\n",
        "\n",
        "X_train, X_test, y_train, y_test = train_test_split(X,y,test_size=0.1,random_state=11)\n",
        "\n",
        "model.fit(X_train, y_train)\n",
        "result = model.predict(X_test)\n",
        "print(model.score(X_test, y_test))\n",
        "# rst = model.predict(test)\n",
        "# df_result =  pd.DataFrame({\"ID\":ID, \"General_Health\" : rst})\n",
        "# df_result\n"
      ],
      "metadata": {
        "colab": {
          "base_uri": "https://localhost:8080/",
          "height": 251
        },
        "id": "fIAiZOGAyWlY",
        "outputId": "795893a9-de88-4b7b-cdef-1be544f657b5"
      },
      "execution_count": 57,
      "outputs": [
        {
          "output_type": "error",
          "ename": "AttributeError",
          "evalue": "ignored",
          "traceback": [
            "\u001b[0;31m---------------------------------------------------------------------------\u001b[0m",
            "\u001b[0;31mAttributeError\u001b[0m                            Traceback (most recent call last)",
            "\u001b[0;32m<ipython-input-57-2ad0672a8f39>\u001b[0m in \u001b[0;36m<cell line: 18>\u001b[0;34m()\u001b[0m\n\u001b[1;32m     16\u001b[0m \u001b[0;34m\u001b[0m\u001b[0m\n\u001b[1;32m     17\u001b[0m \u001b[0mX\u001b[0m \u001b[0;34m=\u001b[0m \u001b[0mminmax_scale\u001b[0m\u001b[0;34m(\u001b[0m\u001b[0mX\u001b[0m\u001b[0;34m)\u001b[0m\u001b[0;34m\u001b[0m\u001b[0;34m\u001b[0m\u001b[0m\n\u001b[0;32m---> 18\u001b[0;31m \u001b[0mprint\u001b[0m\u001b[0;34m(\u001b[0m\u001b[0mX\u001b[0m\u001b[0;34m.\u001b[0m\u001b[0mhead\u001b[0m\u001b[0;34m(\u001b[0m\u001b[0;34m)\u001b[0m\u001b[0;34m)\u001b[0m\u001b[0;34m\u001b[0m\u001b[0;34m\u001b[0m\u001b[0m\n\u001b[0m\u001b[1;32m     19\u001b[0m \u001b[0;34m\u001b[0m\u001b[0m\n\u001b[1;32m     20\u001b[0m \u001b[0;34m\u001b[0m\u001b[0m\n",
            "\u001b[0;31mAttributeError\u001b[0m: 'numpy.ndarray' object has no attribute 'head'"
          ]
        }
      ]
    },
    {
      "cell_type": "markdown",
      "source": [
        "## 3유형\n",
        "- 1.A 도시의 남성 600명과 여성 550명이 있다. 남성들 중 흡연자 비율은 0.2이며 여성들 중 흡연자 비율은 0.26이다.\n",
        "남성과 여성 간에 흡연 여부에 따른 인구 비율이 다른지 확인하고 싶다. 유의 수준 0.05하 귀무가설에 대해 기각 / 채택 여부와 p-value값을 각각 출력하라\n",
        "\n",
        "- 2.age와 Cholesterol을 가지고 weight를 예측하는 선형 회귀 모델을 만들려고한다. age의 회귀 계수를 구하여라\n",
        "\n",
        "- 3-a. age가 고정일 때 Cholesterol와 weight가 선형관계에 있다는 가설을 유의수준 0.05하에 검정하라\n",
        "\n",
        "- 3-b. age가 55, Cholesterol가 72.6일때 위 모델을 기반으로 weight값을 예측하라."
      ],
      "metadata": {
        "id": "qT1YHrIJytqn"
      }
    },
    {
      "cell_type": "code",
      "source": [
        "# 1번 문제\n",
        "male = 600\n",
        "female = 550\n",
        "\n",
        "male_smoker_ratio = 0.2\n",
        "female_smoker_ratio = 0.26\n",
        "\n",
        "male_smoker = male * male_smoker_ratio\n",
        "male_non_smoker = male - male_smoker\n",
        "\n",
        "female_smoker = female * female_smoker_ratio\n",
        "female_non_smoker = female - female_smoker\n",
        "\n",
        "import numpy as np\n",
        "\n",
        "smoker_table = np.array(\n",
        "    [\n",
        "    [male_smoker, male_non_smoker],\n",
        "    [female_smoker, female_non_smoker]\n",
        "    ]\n",
        ")\n",
        "smoker_table\n",
        "\n",
        "from scipy.stats import chi2_contingency\n",
        "\n",
        "p_value = chi2_contingency(smoker_table)[1]\n",
        "print(p_value) # 유의수준 0.05 미만이므로 귀무가설을 기각하고 대립가설을 채택한다\n"
      ],
      "metadata": {
        "id": "HvzgWGrbzL1G",
        "colab": {
          "base_uri": "https://localhost:8080/"
        },
        "outputId": "ce4a3093-dfb5-4028-ec82-294d3897980e"
      },
      "execution_count": 64,
      "outputs": [
        {
          "output_type": "stream",
          "name": "stdout",
          "text": [
            "0.018786854975740768\n"
          ]
        }
      ]
    },
    {
      "cell_type": "code",
      "source": [
        "'''\n",
        "- 2.age와 Cholesterol을 가지고 weight를 예측하는 선형 회귀 모델을 만들려고한다. age의 회귀 계수를 구하여라\n",
        "\n",
        "- 3-a. age가 고정일 때 Cholesterol와 weight가 선형관계에 있다는 가설을 유의수준 0.05하에 검정하라\n",
        "\n",
        "- 3-b. age가 55, Cholesterol가 72.6일때 위 모델을 기반으로 weight값을 예측하라.\n",
        "'''\n",
        "import pandas as pd\n",
        "df= pd.read_csv('https://raw.githubusercontent.com/Datamanim/datarepo/main/adp/28/p7.csv')\n",
        "print(df.head())\n",
        "\n",
        "import statsmodels.api as sm\n",
        "X = sm.add_constant(df[['age', 'Cholesterol']])\n",
        "model = sm.OLS(df['weight'], X)\n",
        "results = model.fit()\n",
        "\n",
        "# 전체 회귀 결과 출력\n",
        "# print(results.summary())\n",
        "\n",
        "print(results.params['age'])\n",
        "\n",
        "results.pvalues['Cholesterol']\n",
        "\n",
        "if H <0.05 :\n",
        "    print('선형 관계에 있다.')\n",
        "\n",
        "else:\n",
        "    print('선형 관계에 없다.')\n",
        "\n",
        "pred = results.predict([1,55,72.6]) # const , age,Cholesterol\n",
        "print(pred[0])\n",
        "\n",
        "\n"
      ],
      "metadata": {
        "colab": {
          "base_uri": "https://localhost:8080/"
        },
        "id": "gLjatz_-_vR_",
        "outputId": "218c6bde-2984-4cf4-9ca3-bb4b3f53b0e0"
      },
      "execution_count": 90,
      "outputs": [
        {
          "output_type": "stream",
          "name": "stdout",
          "text": [
            "   age  Cholesterol  weight\n",
            "0   65         69.0   111.0\n",
            "1   54        117.0    81.0\n",
            "2   61         86.2    72.0\n",
            "3   57         76.0    78.0\n",
            "4   62        160.0    61.0\n",
            "-0.03610166914386496\n",
            "선형 관계에 있다.\n",
            "78.85771011344593\n"
          ]
        }
      ]
    },
    {
      "cell_type": "code",
      "source": [
        "import statsmodels\n",
        "\n",
        "dir(statsmodels.regression)"
      ],
      "metadata": {
        "colab": {
          "base_uri": "https://localhost:8080/"
        },
        "id": "JwZx9NlTB9gM",
        "outputId": "ebbbe889-f848-4563-d53f-3315b75ba108"
      },
      "execution_count": 86,
      "outputs": [
        {
          "output_type": "execute_result",
          "data": {
            "text/plain": [
              "['PytestTester',\n",
              " '__all__',\n",
              " '__builtins__',\n",
              " '__cached__',\n",
              " '__doc__',\n",
              " '__file__',\n",
              " '__loader__',\n",
              " '__name__',\n",
              " '__package__',\n",
              " '__path__',\n",
              " '__spec__',\n",
              " '_prediction',\n",
              " '_tools',\n",
              " 'linear_model',\n",
              " 'mixed_linear_model',\n",
              " 'quantile_regression',\n",
              " 'recursive_ls',\n",
              " 'test',\n",
              " 'yule_walker']"
            ]
          },
          "metadata": {},
          "execution_count": 86
        }
      ]
    }
  ]
}